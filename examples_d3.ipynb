{
  "nbformat": 4,
  "nbformat_minor": 0,
  "metadata": {
    "colab": {
      "provenance": [],
      "authorship_tag": "ABX9TyNO3fmsfJfscs9nXhZ/i9nW",
      "include_colab_link": true
    },
    "kernelspec": {
      "name": "python3",
      "display_name": "Python 3"
    },
    "language_info": {
      "name": "python"
    }
  },
  "cells": [
    {
      "cell_type": "markdown",
      "metadata": {
        "id": "view-in-github",
        "colab_type": "text"
      },
      "source": [
        "<a href=\"https://colab.research.google.com/github/Eidansoft/pythonExercises/blob/master/examples_d3.ipynb\" target=\"_parent\"><img src=\"https://colab.research.google.com/assets/colab-badge.svg\" alt=\"Open In Colab\"/></a>"
      ]
    },
    {
      "cell_type": "code",
      "execution_count": 51,
      "metadata": {
        "colab": {
          "base_uri": "https://localhost:8080/"
        },
        "id": "LmmoIBHIoSHi",
        "outputId": "1ca49a9d-d9a0-4ae1-ff50-fa9f73781608"
      },
      "outputs": [
        {
          "output_type": "stream",
          "name": "stdout",
          "text": [
            "Pepito\n",
            "Pepito\n",
            "was 19 years old when he wrote this book. Andis my son\n",
            "Pepito was 19 years old when he wrote this book. And Pepito is my son\n",
            "Pepito is 19 years old. 1\n",
            "5\n",
            "3.667\n",
            "___hello___\n",
            "Name Alex\n",
            "Surname Lorente\n",
            "Course Programming in Python\n",
            "Name         Alex        \n",
            "Surname Lorente\n",
            "Course Programming in Python\n",
            "It's me\n",
            "It's me\n",
            "Newlines are indicated by \\n\n"
          ]
        }
      ],
      "source": [
        "#print(\"Hello World\")\n",
        "#name = \"Alex\"\n",
        "print(name)\n",
        "name = \"Pepito\"\n",
        "print(name)\n",
        "number = 1\n",
        "number = \"1\"\n",
        "age = 19\n",
        "age2 = \"1\"\n",
        "# this is the old way to replace variables into a string\n",
        "print('was {whatever} years old when he wrote this book. Andis my son'.format(whatever=age))\n",
        "# this is the recommended way\n",
        "print(f'{name} was {age} years old when he wrote this book. And {name} is my son')\n",
        "\n",
        "print(name + ' is ' + str(age) + ' years old. {}'.format(age2))\n",
        "print(int(age2) + 4)\n",
        "\n",
        "\n",
        "print('{0:.3f}'.format(11.0/3))\n",
        "print('{0:_^11}'.format('hello'))\n",
        "\n",
        "print('Name {}'.format('Alex'))\n",
        "print('Surname {}'.format('Lorente'))\n",
        "print('Course {}'.format('Programming in Python'))\n",
        "\n",
        "print('Name {0: ^20}'.format('Alex'))\n",
        "print('Surname {0: ^4}'.format('Lorente'))\n",
        "print('Course {0: ^20}'.format('Programming in Python'))\n",
        "\n",
        "print(\"It's me\")\n",
        "print('It\\'s me')\n",
        "\n",
        "print(r\"Newlines are indicated by \\n\")"
      ]
    },
    {
      "cell_type": "code",
      "source": [
        "#just align right\n",
        "print('{:>12}\\n{:<12}\\n{:>12}\\n{:^12}\\n{:#^12}'.format(\"this\", \"is\", \"a long text\", \"align\", \"example\"))"
      ],
      "metadata": {
        "colab": {
          "base_uri": "https://localhost:8080/"
        },
        "id": "4p0IWqodeju5",
        "outputId": "9983b543-5b98-4147-e8bc-f834429fb088"
      },
      "execution_count": 3,
      "outputs": [
        {
          "output_type": "stream",
          "name": "stdout",
          "text": [
            "        this\n",
            "is          \n",
            " a long text\n",
            "   align    \n",
            "##example###\n"
          ]
        }
      ]
    },
    {
      "cell_type": "code",
      "source": [
        "password = \"abcd123\"\n",
        "username = \"ary\"\n",
        "\n",
        "def login(name, passwd):\n",
        "    if passwd == password and name == username:\n",
        "        print(\"Success\")\n",
        "    else:\n",
        "        print(\"Failure\")\n",
        "\n",
        "    return\n",
        "\n",
        "\n",
        "for i in range(0, 3):\n",
        "    print(i)\n",
        "    login(input(\"Username? \"), \"Password? \")\n",
        "print(\"DONE!\")"
      ],
      "metadata": {
        "colab": {
          "base_uri": "https://localhost:8080/"
        },
        "id": "6lsWw0Ui3rAt",
        "outputId": "1af17a45-9b3f-40b9-9e11-ce0faea6f94e"
      },
      "execution_count": 19,
      "outputs": [
        {
          "output_type": "stream",
          "name": "stdout",
          "text": [
            "0\n",
            "Username? alex\n",
            "Failure\n",
            "1\n",
            "Username? test\n",
            "Failure\n",
            "2\n",
            "Username? ary\n",
            "Failure\n",
            "DONE!\n"
          ]
        }
      ]
    },
    {
      "cell_type": "code",
      "source": [
        "pwok = \"abcd123\"\n",
        "uok = \"ary\"\n",
        "\n",
        "pwtest = input(\"PW? \")\n",
        "utest = input(\"User? \")\n",
        "\n",
        "if pwtest == pwok and utest == uok:\n",
        "    print(\"Success\")\n",
        "else:\n",
        "    print(\"Failure\")"
      ],
      "metadata": {
        "colab": {
          "base_uri": "https://localhost:8080/"
        },
        "id": "6UpOslq8v6o-",
        "outputId": "8589456d-7509-4585-eb82-7766d2bd3143"
      },
      "execution_count": 6,
      "outputs": [
        {
          "output_type": "stream",
          "name": "stdout",
          "text": [
            "PW? abcd1234\n",
            "User? ary\n",
            "Failure\n"
          ]
        }
      ]
    },
    {
      "cell_type": "code",
      "source": [
        "def any_name_that_you_want_for_the_method(age):\n",
        "    # here will be all the commands for this method\n",
        "    name = input(\"Name: \")\n",
        "    pw = input(\"PW: \")\n",
        "    return f\"Ok {name}, your password is {pw} and your age is {age}\""
      ],
      "metadata": {
        "id": "35SbJdkg5EdX"
      },
      "execution_count": 27,
      "outputs": []
    },
    {
      "cell_type": "code",
      "source": [
        "print(any_name_that_you_want_for_the_method(2))"
      ],
      "metadata": {
        "colab": {
          "base_uri": "https://localhost:8080/"
        },
        "id": "Ecu6DNhn5plD",
        "outputId": "5994d40d-09c9-418c-a9e8-963ce23a6d50"
      },
      "execution_count": 29,
      "outputs": [
        {
          "output_type": "stream",
          "name": "stdout",
          "text": [
            "Name: setnuih\n",
            "PW: ontehu\n",
            "Ok setnuih, your password is ontehu and your age is 2\n"
          ]
        }
      ]
    },
    {
      "cell_type": "code",
      "source": [
        "number = 23\n",
        "running = True\n",
        "\n",
        "while running:\n",
        "    guess = int(input('Enter an integer : '))\n",
        "\n",
        "    if guess == number:\n",
        "        print('Congratulations, you guessed it.')\n",
        "        # this causes the while loop to stop\n",
        "        running = False\n",
        "    elif guess < number:\n",
        "        print('No, it is a little higher than that.')\n",
        "    else:\n",
        "        print('No, it is a little lower than that.')\n",
        "else:\n",
        "    print('The while loop is over.')\n",
        "    # Do anything else you want to do here\n",
        "\n",
        "print('Done')"
      ],
      "metadata": {
        "colab": {
          "base_uri": "https://localhost:8080/"
        },
        "id": "O4jcXX5Dzm5Y",
        "outputId": "f83788fc-9417-4f7e-e682-250d396782b9"
      },
      "execution_count": 7,
      "outputs": [
        {
          "output_type": "stream",
          "name": "stdout",
          "text": [
            "Enter an integer : 5\n",
            "No, it is a little higher than that.\n",
            "Enter an integer : 10\n",
            "No, it is a little higher than that.\n",
            "Enter an integer : 20\n",
            "No, it is a little higher than that.\n",
            "Enter an integer : 30\n",
            "No, it is a little lower than that.\n",
            "Enter an integer : 23\n",
            "Congratulations, you guessed it.\n",
            "The while loop is over.\n",
            "Done\n"
          ]
        }
      ]
    },
    {
      "cell_type": "code",
      "source": [
        "for i in [\"a\", \"b\", \"3\", \"3\", \"4\"]:\n",
        "    print(i)"
      ],
      "metadata": {
        "colab": {
          "base_uri": "https://localhost:8080/"
        },
        "id": "aLJARsHl09-H",
        "outputId": "e69bb823-ae22-48c3-847c-293eb3e3ab71"
      },
      "execution_count": 14,
      "outputs": [
        {
          "output_type": "stream",
          "name": "stdout",
          "text": [
            "a\n",
            "b\n",
            "3\n",
            "3\n",
            "4\n"
          ]
        }
      ]
    },
    {
      "cell_type": "code",
      "source": [
        "while True:\n",
        "    s = input('Enter something : ')\n",
        "    if s == 'quit':\n",
        "        break\n",
        "    print('Length of the string is', len(s))\n",
        "print('Done')"
      ],
      "metadata": {
        "colab": {
          "base_uri": "https://localhost:8080/"
        },
        "id": "1wuG7h7y2PEz",
        "outputId": "839256a4-9126-4267-e1d0-718742c6a6f6"
      },
      "execution_count": 15,
      "outputs": [
        {
          "output_type": "stream",
          "name": "stdout",
          "text": [
            "Enter something : aoesntuh\n",
            "Length of the string is 8\n",
            "Enter something : s\n",
            "Length of the string is 1\n",
            "Enter something : quit\n",
            "Done\n"
          ]
        }
      ]
    },
    {
      "cell_type": "code",
      "source": [
        "while True:\n",
        "    s = input('Enter something : ')\n",
        "    if s == 'quit':\n",
        "        break\n",
        "    if len(s) < 3:\n",
        "        print('Too small')\n",
        "        continue\n",
        "    print('Input is of sufficient length')\n",
        "    # Do other kinds of processing here...\n",
        "\n",
        "print(\"FINISHED\")"
      ],
      "metadata": {
        "colab": {
          "base_uri": "https://localhost:8080/"
        },
        "id": "qu7JiR-g2r_t",
        "outputId": "74ef9ba2-2096-4c7c-e991-bdfb8edb813e"
      },
      "execution_count": 16,
      "outputs": [
        {
          "output_type": "stream",
          "name": "stdout",
          "text": [
            "Enter something : snateohusnatoeuh\n",
            "Input is of sufficient length\n",
            "Enter something : ao\n",
            "Too small\n",
            "Enter something : quit\n",
            "FINISHED\n"
          ]
        }
      ]
    },
    {
      "cell_type": "code",
      "source": [
        "d = 5\n",
        "def add_all(a=1, b=1 , c=1):\n",
        "    d =1\n",
        "def test(a, b):\n",
        "    print(f'value of d: {d}')\n"
      ],
      "metadata": {
        "id": "MuBz5w_t7fAR"
      },
      "execution_count": 50,
      "outputs": []
    },
    {
      "cell_type": "code",
      "source": [
        "a = 1\n",
        "b = 2\n",
        "c = 3\n",
        "print(add_all(a, b ,c))\n",
        "print(test(b,a))"
      ],
      "metadata": {
        "colab": {
          "base_uri": "https://localhost:8080/"
        },
        "id": "MucAL_a-7tRL",
        "outputId": "dfed22a5-cfb2-41d2-945d-e5679f1ab218"
      },
      "execution_count": 51,
      "outputs": [
        {
          "output_type": "stream",
          "name": "stdout",
          "text": [
            "None\n",
            "value of d: 5\n",
            "None\n"
          ]
        }
      ]
    },
    {
      "cell_type": "code",
      "source": [
        "#\n",
        "##\n",
        "###\n",
        "####\n",
        "#####\n",
        "######\n",
        "#######\n",
        "number = 6 #int(input(\"Enter a number of lines: \"))\n",
        "char = '#'\n",
        "for i in range(0, number):\n",
        "    print(i * char)\n"
      ],
      "metadata": {
        "id": "IRSlfMqQCGXB",
        "outputId": "672adcef-1dec-4a42-ca81-b448295e4361",
        "colab": {
          "base_uri": "https://localhost:8080/"
        }
      },
      "execution_count": 52,
      "outputs": [
        {
          "output_type": "stream",
          "name": "stdout",
          "text": [
            "Enter a number of lines: 5\n",
            "\n",
            "#\n",
            "##\n",
            "###\n",
            "####\n"
          ]
        }
      ]
    },
    {
      "cell_type": "code",
      "source": [
        "import math\n",
        "def nearest_odd(n):\n",
        "    n += 0.1\n",
        "    if math.floor(n) % 2 == 0:\n",
        "        return int(n+1)\n",
        "    else:\n",
        "        return int(n)\n",
        "\n",
        "def print_tree(size, char):\n",
        "    for a in range(1, size*2):\n",
        "        if a % 2 !=0:\n",
        "          print(('{:^'+str(size*2)+'}').format(char * a))\n",
        "    print(('{:^'+str(size*2)+'}').format('|'*(nearest_odd(size/3))))\n"
      ],
      "metadata": {
        "id": "UszhzbWRIi9x"
      },
      "execution_count": 50,
      "outputs": []
    },
    {
      "cell_type": "code",
      "source": [
        "print_tree(1, 'A')"
      ],
      "metadata": {
        "id": "TPGmJhfEMQ2M",
        "outputId": "ac5e5a92-f0a9-4a75-8800-dc3903fbe0d2",
        "colab": {
          "base_uri": "https://localhost:8080/"
        }
      },
      "execution_count": 56,
      "outputs": [
        {
          "output_type": "stream",
          "name": "stdout",
          "text": [
            "A \n",
            "| \n"
          ]
        }
      ]
    }
  ]
}