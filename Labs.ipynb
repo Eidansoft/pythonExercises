{
  "nbformat": 4,
  "nbformat_minor": 0,
  "metadata": {
    "colab": {
      "provenance": [],
      "authorship_tag": "ABX9TyPPGR7iMSkbrgr9KaYdMNtZ",
      "include_colab_link": true
    },
    "kernelspec": {
      "name": "python3",
      "display_name": "Python 3"
    },
    "language_info": {
      "name": "python"
    }
  },
  "cells": [
    {
      "cell_type": "markdown",
      "metadata": {
        "id": "view-in-github",
        "colab_type": "text"
      },
      "source": [
        "<a href=\"https://colab.research.google.com/github/Eidansoft/pythonExercises/blob/master/Labs.ipynb\" target=\"_parent\"><img src=\"https://colab.research.google.com/assets/colab-badge.svg\" alt=\"Open In Colab\"/></a>"
      ]
    },
    {
      "cell_type": "code",
      "execution_count": null,
      "metadata": {
        "id": "vqZVhXJiaIVB"
      },
      "outputs": [],
      "source": [
        "# ASCII Tree\n",
        "import math\n",
        "def nearest_odd(n):\n",
        "    n += 0.1\n",
        "    if math.floor(n) % 2 == 0:\n",
        "        return int(n+1)\n",
        "    else:\n",
        "        return int(n)\n",
        "\n",
        "def print_tree(size, char):\n",
        "    for a in range(1, size*2):\n",
        "        if a % 2 !=0:\n",
        "          print(('{:^'+str(size*2)+'}').format(char * a))\n",
        "    print(('{:^'+str(size*2)+'}').format('|'*(nearest_odd(size/3))))\n"
      ]
    }
  ]
}