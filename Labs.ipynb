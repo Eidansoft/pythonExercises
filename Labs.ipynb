{
  "nbformat": 4,
  "nbformat_minor": 0,
  "metadata": {
    "colab": {
      "provenance": [],
      "authorship_tag": "ABX9TyMp8hjPn27oGY3ORVWxye2s",
      "include_colab_link": true
    },
    "kernelspec": {
      "name": "python3",
      "display_name": "Python 3"
    },
    "language_info": {
      "name": "python"
    }
  },
  "cells": [
    {
      "cell_type": "markdown",
      "metadata": {
        "id": "view-in-github",
        "colab_type": "text"
      },
      "source": [
        "<a href=\"https://colab.research.google.com/github/Eidansoft/pythonExercises/blob/master/Labs.ipynb\" target=\"_parent\"><img src=\"https://colab.research.google.com/assets/colab-badge.svg\" alt=\"Open In Colab\"/></a>"
      ]
    },
    {
      "cell_type": "markdown",
      "source": [
        "# Lab 1\n",
        "Create a method that print on screen a tree of `n` size and with the `char` character, for example `tree(3, '%')`\n",
        "```\n",
        "  %\n",
        " %%%\n",
        "%%%%%\n",
        "  |\n",
        "```"
      ],
      "metadata": {
        "id": "irE-3VtliTaP"
      }
    },
    {
      "cell_type": "code",
      "execution_count": null,
      "metadata": {
        "id": "vqZVhXJiaIVB"
      },
      "outputs": [],
      "source": [
        "# ASCII Tree\n",
        "import math\n",
        "def nearest_odd(n):\n",
        "    n += 0.1\n",
        "    if math.floor(n) % 2 == 0:\n",
        "        return int(n+1)\n",
        "    else:\n",
        "        return int(n)\n",
        "\n",
        "def print_tree(size, char):\n",
        "    for a in range(1, size*2):\n",
        "        if a % 2 !=0:\n",
        "          print(('{:^'+str(size*2)+'}').format(char * a))\n",
        "    print(('{:^'+str(size*2)+'}').format('|'*(nearest_odd(size/3))))\n"
      ]
    },
    {
      "cell_type": "markdown",
      "source": [
        "Best solutions (extra mini point winners!)"
      ],
      "metadata": {
        "id": "IKeS2HOsFRwO"
      }
    },
    {
      "cell_type": "code",
      "source": [
        "# 1st (simplest, easiest, no need special methods, neither formatting)\n",
        "def tree(character, height):\n",
        "  for i in range(height):\n",
        "    print(' '*(height - i -1) + character*(2*i+1))\n",
        "\n",
        "# 2nd (using center method)\n",
        "height = int(input('Enter height of tree with characters: '))\n",
        "char = (input('Enter character of tree: '))\n",
        "for i in range(height):\n",
        "    print((char * (2 * i + 1)).center(height * 2 - 1))\n",
        "print(('|').center(height * 2 - 1))\n",
        "\n",
        "# 3rd (using format method, closest to mine, but better)\n",
        "def tree():\n",
        "  character = input('Enter a character: ')\n",
        "  size = int(input('Enter a size: '))\n",
        "  for i in range(1, size*2, 2):\n",
        "    print('{:^{}}'.format(i*character, size*2))\n",
        "tree()"
      ],
      "metadata": {
        "id": "ASfWZ-ISFW-n"
      },
      "execution_count": null,
      "outputs": []
    },
    {
      "cell_type": "code",
      "source": [
        "#basic solution\n",
        "def draw_tree(character):\n",
        "    print(   '  *'    )\n",
        "    print(   '  ^ '    )\n",
        "    print(   ' ^^^'    )\n",
        "    print( '^^^^^  ' )\n",
        "    print(  '  |'    )\n",
        "draw_tree('^')"
      ],
      "metadata": {
        "id": "eGr7GSzHFXtT"
      },
      "execution_count": null,
      "outputs": []
    },
    {
      "cell_type": "code",
      "source": [
        "# curious alternative\n",
        "char = input('Please input a character:')\n",
        "width = int(input('Please input the tree width:'))\n",
        "for i in range(1, width + 1):\n",
        "  if i % 2 != 0:\n",
        "    print(f'{(char * i):^{width}}')"
      ],
      "metadata": {
        "id": "L5keBG2UFasJ"
      },
      "execution_count": null,
      "outputs": []
    },
    {
      "cell_type": "code",
      "source": [
        "# another curious alternative\n",
        "max_width = 5\n",
        "# Parts of the tree\n",
        "parts = ['*', '^', '^^^', '^^^^^', '', '|']\n",
        "\n",
        "# Print each part, centered within the maximum width\n",
        "for part in parts:\n",
        "    print(part.center(max_width))"
      ],
      "metadata": {
        "id": "YxBYX4SrFc7A"
      },
      "execution_count": null,
      "outputs": []
    },
    {
      "cell_type": "code",
      "source": [
        "# limited approach\n",
        "char = input(\"Enter a character: \")\n",
        "number = int(input(\"Enter an integer : \"))\n",
        "for i in range(0, number):\n",
        "  print(f\"{(i * 2 + 1) * char :^100}\")"
      ],
      "metadata": {
        "id": "-U8xRPDNFhVA"
      },
      "execution_count": null,
      "outputs": []
    },
    {
      "cell_type": "markdown",
      "source": [
        "# Lab 2\n",
        "Please implement a method called `mycalc` that resolve easy operations. The method is expected to receive 1 mandatory string parameter that will contains the operation. Your method shall work properly in order to pass below tests:\n",
        "```\n",
        "# 50 points\n",
        "assert mycalc(\"1+2\") == 3\n",
        "assert mycalc(\"3-1\") == 2\n",
        "\n",
        "# 75 points\n",
        "assert mycalc(\"1+10\") == 11\n",
        "assert mycalc(\"217-1\") == 216\n",
        "assert mycalc(\"5*100\") == 500\n",
        "assert mycalc(\"12/2\") == 6\n",
        "\n",
        "# 100 points\n",
        "assert mycalc(\"20000 - 100 \") == 19900\n",
        "assert mycalc(\" 2 ^ 4\") == 16\n",
        "```"
      ],
      "metadata": {
        "id": "Et-stRvCi-57"
      }
    },
    {
      "cell_type": "code",
      "source": [
        "# winners for the extra mini-point for the most efficient version\n",
        "def mycalc(expression):\n",
        "    expression = expression.replace('^', '**')\n",
        "    result = eval(expression)\n",
        "    return result"
      ],
      "metadata": {
        "id": "iPEhSjziYKvP"
      },
      "execution_count": null,
      "outputs": []
    },
    {
      "cell_type": "markdown",
      "source": [
        "# Lab 3\n",
        "Given a vector of integers, find the sum of the product of all possible pairs of vector elements. Ex:\n",
        "```\n",
        "[1,1]: (1x1)+(1x1) = 2\n",
        "[3,2]: (3x2)+(2x3) = 12\n",
        "[1,2,3]: (1x2)+(1x3)+(2x1)+(2x3)+(3x1)+(3x2) = 22\n",
        "```"
      ],
      "metadata": {
        "id": "SN7VupzqYcYg"
      }
    },
    {
      "cell_type": "code",
      "source": [
        "def sum_product_elements(items):\n",
        "  res = 0\n",
        "  for i in range(0,len(items)):\n",
        "    for j in range(0,len(items)):\n",
        "      if i != j:\n",
        "        res += items[i] * items[j]\n",
        "  return res\n",
        "\n",
        "assert sum_product_elements([1,1]) == 2\n",
        "assert sum_product_elements([3,2]) == 12\n",
        "assert sum_product_elements([1,2,3]) == 22\n",
        "assert sum_product_elements([10,20,30]) == 2200\n",
        "assert sum_product_elements([18,11,15,27]) == 3642\n",
        "assert sum_product_elements([1,2,3,5,7,11,13]) == 1386"
      ],
      "metadata": {
        "id": "6wxM-p9cYiTo"
      },
      "execution_count": null,
      "outputs": []
    },
    {
      "cell_type": "markdown",
      "source": [
        "# Lab 4\n",
        "Create a program to manage credentials. A credential has a name, a username and a password.\n",
        "\n",
        "You will need to implement a method to create a new credential \"credential_create\" that will receive needed params. This method to create a new credential will accept the password as optional parameter, if not provided, you should generate a random password with characters, numbers and symbols of random lengh between 15 and 20.\n",
        "\n",
        "Also you will need to create a method to recover a credential \"credential_retrieve\" that will receive the name of an existing credential and will return the credentials object.\n",
        "\n",
        "In order to avoid lost credentials between executions, you should save them into a file called \"creds.txt\" and load credentials from it in JSON format.\n",
        "\n",
        "The following test will be used to test your code:\n",
        "```\n",
        "# create some new credentials\n",
        "credential_create('Google', 'test@gmail.com', '1234')\n",
        "credential_create('BookStore' 'iam@reader.org')\n",
        "credential_create('Another Service' 'hello@apple.com')\n",
        "# first test\n",
        "test = credential_retrieve('Google')\n",
        "assert test['name'] == 'Google'\n",
        "assert test['username'] == 'test@gmail.com'\n",
        "assert test['password'] == '1234'\n",
        "# second test\n",
        "test = credential_retrieve('BookStore')\n",
        "assert test['name'] == 'BookStore'\n",
        "assert test['username'] == 'iam@reader.org'\n",
        "assert test['password'], \"Error: it was expected to have here a randomly generated password\"\n",
        "assert len(test['password']) >= 15, \"Error: password generated too short\"\n",
        "# file readed test, here I will test that the credentials from the creds.txt file has been load also\n",
        "test = credential_retrieve('From file')\n",
        "assert test['name'] == 'From file'\n",
        "assert test['username'], \"Error: it was expected to have access to the credentials from the file\"\n",
        "assert test['password'], \"Error: it was expected to have access to the credentials from the file\"\n",
        "```"
      ],
      "metadata": {
        "id": "PvGZYwAkX1jD"
      }
    }
  ]
}