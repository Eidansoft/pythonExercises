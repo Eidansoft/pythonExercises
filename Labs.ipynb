{
  "nbformat": 4,
  "nbformat_minor": 0,
  "metadata": {
    "colab": {
      "provenance": [],
      "authorship_tag": "ABX9TyNo8lezCxJNkp9L+9KSu3TH",
      "include_colab_link": true
    },
    "kernelspec": {
      "name": "python3",
      "display_name": "Python 3"
    },
    "language_info": {
      "name": "python"
    }
  },
  "cells": [
    {
      "cell_type": "markdown",
      "metadata": {
        "id": "view-in-github",
        "colab_type": "text"
      },
      "source": [
        "<a href=\"https://colab.research.google.com/github/Eidansoft/pythonExercises/blob/master/Labs.ipynb\" target=\"_parent\"><img src=\"https://colab.research.google.com/assets/colab-badge.svg\" alt=\"Open In Colab\"/></a>"
      ]
    },
    {
      "cell_type": "markdown",
      "source": [
        "# Lab 1\n",
        "Create a method that print on screen a tree of `n` size and with the `char` character, for example `tree(3, '%')`\n",
        "```\n",
        "  %\n",
        " %%%\n",
        "%%%%%\n",
        "  |\n",
        "```"
      ],
      "metadata": {
        "id": "irE-3VtliTaP"
      }
    },
    {
      "cell_type": "code",
      "execution_count": null,
      "metadata": {
        "id": "vqZVhXJiaIVB"
      },
      "outputs": [],
      "source": [
        "# ASCII Tree\n",
        "import math\n",
        "def nearest_odd(n):\n",
        "    n += 0.1\n",
        "    if math.floor(n) % 2 == 0:\n",
        "        return int(n+1)\n",
        "    else:\n",
        "        return int(n)\n",
        "\n",
        "def print_tree(size, char):\n",
        "    for a in range(1, size*2):\n",
        "        if a % 2 !=0:\n",
        "          print(('{:^'+str(size*2)+'}').format(char * a))\n",
        "    print(('{:^'+str(size*2)+'}').format('|'*(nearest_odd(size/3))))\n"
      ]
    },
    {
      "cell_type": "markdown",
      "source": [
        "Best solutions (extra mini point winners!)"
      ],
      "metadata": {
        "id": "IKeS2HOsFRwO"
      }
    },
    {
      "cell_type": "code",
      "source": [
        "# 1st (simplest, easiest, no need special methods, neither formatting)\n",
        "def tree(character, height):\n",
        "  for i in range(height):\n",
        "    print(' '*(height - i -1) + character*(2*i+1))\n",
        "\n",
        "# 2nd (using center method)\n",
        "height = int(input('Enter height of tree with characters: '))\n",
        "char = (input('Enter character of tree: '))\n",
        "for i in range(height):\n",
        "    print((char * (2 * i + 1)).center(height * 2 - 1))\n",
        "print(('|').center(height * 2 - 1))\n",
        "\n",
        "# 3rd (using format method, closest to mine, but better)\n",
        "def tree():\n",
        "  character = input('Enter a character: ')\n",
        "  size = int(input('Enter a size: '))\n",
        "  for i in range(1, size*2, 2):\n",
        "    print('{:^{}}'.format(i*character, size*2))\n",
        "tree()"
      ],
      "metadata": {
        "id": "ASfWZ-ISFW-n"
      },
      "execution_count": null,
      "outputs": []
    },
    {
      "cell_type": "code",
      "source": [
        "#basic solution\n",
        "def draw_tree(character):\n",
        "    print(   '  *'    )\n",
        "    print(   '  ^ '    )\n",
        "    print(   ' ^^^'    )\n",
        "    print( '^^^^^  ' )\n",
        "    print(  '  |'    )\n",
        "draw_tree('^')"
      ],
      "metadata": {
        "id": "eGr7GSzHFXtT"
      },
      "execution_count": null,
      "outputs": []
    },
    {
      "cell_type": "code",
      "source": [
        "# curious alternative\n",
        "char = input('Please input a character:')\n",
        "width = int(input('Please input the tree width:'))\n",
        "for i in range(1, width + 1):\n",
        "  if i % 2 != 0:\n",
        "    print(f'{(char * i):^{width}}')"
      ],
      "metadata": {
        "id": "L5keBG2UFasJ"
      },
      "execution_count": null,
      "outputs": []
    },
    {
      "cell_type": "code",
      "source": [
        "# another curious alternative\n",
        "max_width = 5\n",
        "# Parts of the tree\n",
        "parts = ['*', '^', '^^^', '^^^^^', '', '|']\n",
        "\n",
        "# Print each part, centered within the maximum width\n",
        "for part in parts:\n",
        "    print(part.center(max_width))"
      ],
      "metadata": {
        "id": "YxBYX4SrFc7A"
      },
      "execution_count": null,
      "outputs": []
    },
    {
      "cell_type": "code",
      "source": [
        "# limited approach\n",
        "char = input(\"Enter a character: \")\n",
        "number = int(input(\"Enter an integer : \"))\n",
        "for i in range(0, number):\n",
        "  print(f\"{(i * 2 + 1) * char :^100}\")"
      ],
      "metadata": {
        "id": "-U8xRPDNFhVA"
      },
      "execution_count": null,
      "outputs": []
    },
    {
      "cell_type": "markdown",
      "source": [
        "# Lab 2\n",
        "Please implement a method called `mycalc` that resolve easy operations. The method is expected to receive 1 mandatory string parameter that will contains the operation. Your method shall work properly in order to pass below tests:\n",
        "```\n",
        "# 50 points\n",
        "assert mycalc(\"1+2\") == 3\n",
        "assert mycalc(\"3-1\") == 2\n",
        "\n",
        "# 75 points\n",
        "assert mycalc(\"1+10\") == 11\n",
        "assert mycalc(\"217-1\") == 216\n",
        "assert mycalc(\"5*100\") == 500\n",
        "assert mycalc(\"12/2\") == 6\n",
        "\n",
        "# 100 points\n",
        "assert mycalc(\"20000 - 100 \") == 19900\n",
        "assert mycalc(\" 2 ^ 4\") == 16\n",
        "```"
      ],
      "metadata": {
        "id": "Et-stRvCi-57"
      }
    },
    {
      "cell_type": "code",
      "source": [
        "# winners for the extra mini-point for the most efficient version\n",
        "def mycalc(expression):\n",
        "    expression = expression.replace('^', '**')\n",
        "    result = eval(expression)\n",
        "    return result"
      ],
      "metadata": {
        "id": "iPEhSjziYKvP"
      },
      "execution_count": null,
      "outputs": []
    },
    {
      "cell_type": "markdown",
      "source": [
        "# Lab 3\n",
        "Given a vector of integers, find the sum of the product of all possible pairs of vector elements. Ex:\n",
        "```\n",
        "[1,1]: (1x1)+(1x1) = 2\n",
        "[3,2]: (3x2)+(2x3) = 12\n",
        "[1,2,3]: (1x2)+(1x3)+(2x1)+(2x3)+(3x1)+(3x2) = 22\n",
        "```"
      ],
      "metadata": {
        "id": "SN7VupzqYcYg"
      }
    },
    {
      "cell_type": "code",
      "source": [
        "def sum_product_elements(items):\n",
        "  res = 0\n",
        "  for i in range(0,len(items)):\n",
        "    for j in range(0,len(items)):\n",
        "      if i != j:\n",
        "        res += items[i] * items[j]\n",
        "  return res\n",
        "\n",
        "assert sum_product_elements([1,1]) == 2\n",
        "assert sum_product_elements([3,2]) == 12\n",
        "assert sum_product_elements([1,2,3]) == 22\n",
        "assert sum_product_elements([10,20,30]) == 2200\n",
        "assert sum_product_elements([18,11,15,27]) == 3642\n",
        "assert sum_product_elements([1,2,3,5,7,11,13]) == 1386"
      ],
      "metadata": {
        "id": "6wxM-p9cYiTo"
      },
      "execution_count": null,
      "outputs": []
    },
    {
      "cell_type": "markdown",
      "source": [
        "# Lab 4\n",
        "Create a program to manage credentials. I expect you to create two classes, vault and credential.\n",
        "\n",
        "Every credential has as attributes \"name\", \"username\" and \"password\".\n",
        "We need a program to manage several credentials, so you will need to create a class called \"vault\" that will contain all credentials into an attribute called \"credentials\", and will have methods to \"save\" them all into a file, or \"read\" them from a file.\n",
        "\n",
        "Also you will need to implement a class named \"credential\" to manage the credential details. When creating a new credential the password is optional, if not provided, the class should generate a random password with characters, numbers and symbols of random lengh between 15 and 20.\n",
        "\n",
        "The following tests will be used to test your code:\n",
        "```\n",
        "def test_create_credential():\n",
        "  my_vault = vault()\n",
        "  cred1 = credential(\"Google\", 'test@gmail.com', '1234')\n",
        "  my_vault.credentials.append(cred1)\n",
        "  assert(my_vault.credentials[0].name == \"Google\")\n",
        "  assert(my_vault.credentials[0].username == \"test@gmail.com\")\n",
        "  assert(my_vault.credentials[0].password == \"1234\")\n",
        "\n",
        "def test_create_multiple_credentials():\n",
        "  my_vault = vault()\n",
        "  my_vault.credentials.append(credential(\"Google\", 'test@gmail.com', '1234'))\n",
        "  my_vault.credentials.append(credential(\"BookStore\", 'iam@reader.org', '5678'))\n",
        "  my_vault.credentials.append(credential(\"Another Service\", 'hello@apple.com', '9012'))\n",
        "  assert(len(my_vault.credentials) == 3)\n",
        "  assert(my_vault.credentials[0].name == \"Google\")\n",
        "  assert(my_vault.credentials[1].username == \"iam@reader.org\")\n",
        "  assert(my_vault.credentials[2].password == \"9012\")\n",
        "\n",
        "def test_passwords_optionals():\n",
        "  my_vault = vault()\n",
        "  my_vault.credentials.append(credential(\"Google\", 'test@gmail.com'))\n",
        "  my_vault.credentials.append(credential(\"BookStore\", 'iam@reader.org'))\n",
        "  assert(my_vault.credentials[0].name == \"Google\")\n",
        "  assert(my_vault.credentials[0].username == \"test@gmail.com\")\n",
        "  assert(len(my_vault.credentials[0].password) > 15)\n",
        "  assert(len(my_vault.credentials[0].password) < 20)\n",
        "  assert(my_vault.credentials[0].password != my_vault.credentials[1].password)\n",
        "\n",
        "def test_vault_saves_and_read_file():\n",
        "  my_vault = vault()\n",
        "  my_vault.credentials.append(credential(\"Google\", 'test@gmail.com', '1234'))\n",
        "  my_vault.credentials.append(credential(\"BookStore\", 'iam@reader.org', '5678'))\n",
        "  my_vault.credentials.append(credential(\"Another Service\", 'hello@apple.com', '9012'))\n",
        "  my_vault.save()\n",
        "  second_vault = vault()\n",
        "  second_vault.read()\n",
        "  assert(second_vault.credentials[0].name == \"Google\")\n",
        "  assert(second_vault.credentials[1].username == \"iam@reader.org\")\n",
        "  assert(second_vault.credentials[2].password == \"9012\")\n",
        "\n",
        "test_create_credential()\n",
        "print(\"25 points ok!\")\n",
        "test_create_multiple_credentials()\n",
        "print(\"50 points ok!!\")\n",
        "test_passwords_optionals()\n",
        "print(\"75 points Ok!!!\")\n",
        "test_vault_saves_and_read_file()\n",
        "print(\"100 points OK!!!!\")\n",
        "```"
      ],
      "metadata": {
        "id": "PvGZYwAkX1jD"
      }
    }
  ]
}