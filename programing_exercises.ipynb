{
  "nbformat": 4,
  "nbformat_minor": 0,
  "metadata": {
    "colab": {
      "provenance": [],
      "authorship_tag": "ABX9TyOykUbl1Js74tW656DT9BLE",
      "include_colab_link": true
    },
    "kernelspec": {
      "name": "python3",
      "display_name": "Python 3"
    },
    "language_info": {
      "name": "python"
    }
  },
  "cells": [
    {
      "cell_type": "markdown",
      "metadata": {
        "id": "view-in-github",
        "colab_type": "text"
      },
      "source": [
        "<a href=\"https://colab.research.google.com/github/Eidansoft/pythonExercises/blob/master/programing_exercises.ipynb\" target=\"_parent\"><img src=\"https://colab.research.google.com/assets/colab-badge.svg\" alt=\"Open In Colab\"/></a>"
      ]
    },
    {
      "cell_type": "code",
      "source": [
        "oenthuntoehuo"
      ],
      "metadata": {
        "id": "2x1U7GvO0_uo"
      },
      "execution_count": null,
      "outputs": []
    },
    {
      "cell_type": "markdown",
      "source": [
        "# Basic Programming Exercises - Week1\n"
      ],
      "metadata": {
        "id": "SWbxQlfBbOQg"
      }
    },
    {
      "cell_type": "markdown",
      "source": [
        "- A method that, given a number, it returns the sum of all numbers between 1 until n."
      ],
      "metadata": {
        "id": "QxdRVYvxdKkM"
      }
    },
    {
      "cell_type": "code",
      "source": [
        "number_input = int(input('Enter an integer : '))\n",
        "\n",
        "def number(n):\n",
        "    return sum(range(n+1))\n",
        "\n",
        "number(number_input)"
      ],
      "metadata": {
        "id": "pTNdpoBh4bt_"
      },
      "execution_count": null,
      "outputs": []
    },
    {
      "cell_type": "markdown",
      "source": [
        "- A method that, given a number n, it returns (n(n+1))/2"
      ],
      "metadata": {
        "id": "pMlqS9W2dl6J"
      }
    },
    {
      "cell_type": "code",
      "source": [
        "number_input = int(input('Enter an integer : '))\n",
        "def number(n):\n",
        "    return ((n*(n+1))/2)\n",
        "\n",
        "number(number_input)\n"
      ],
      "metadata": {
        "id": "Dupt1Ede8Z0-"
      },
      "execution_count": null,
      "outputs": []
    },
    {
      "cell_type": "code",
      "source": [
        "def seq_sum(n):\n",
        "  result = 0\n",
        "  for i in\n",
        "  for i in []:\n",
        "    result = result + i\n",
        "  return result\n",
        "\n",
        "seq_sum(3)"
      ],
      "metadata": {
        "id": "leBauk10-QTL"
      },
      "execution_count": null,
      "outputs": []
    },
    {
      "cell_type": "markdown",
      "source": [
        "- A method that, given a word or phrase, it print out backwards."
      ],
      "metadata": {
        "id": "dBlSEB_ndJSJ"
      }
    },
    {
      "cell_type": "code",
      "source": [
        "def backwards(n):\n",
        "  print(\"len(n):\" + str(len(n)))\n",
        "  for i in range(len(n)-1, -1, -1):\n",
        "    print(i)\n",
        "\n",
        "  for i in range(len(n)-1, -1, -1):\n",
        "    print(n[i], end=\"\")\n",
        "\n",
        "backwards(\"hello\")"
      ],
      "metadata": {
        "id": "OJw8Kabd_JNM"
      },
      "execution_count": null,
      "outputs": []
    },
    {
      "cell_type": "code",
      "source": [
        "def reverse_string_while():\n",
        "    input_string = input(\"Enter a word or phrase: \")\n",
        "    reversed_string = ''\n",
        "    length = len(input_string) - 1\n",
        "    while length >= 0:\n",
        "        #reversed_string = reversed_string + input_string[length]\n",
        "        reversed_string += input_string[length]\n",
        "        #length = length - 1\n",
        "        length -= 1\n",
        "        print(\"Current reversed_string is: \" + reversed_string)\n",
        "    print(reversed_string)\n",
        "\n",
        "reverse_string_while()\n"
      ],
      "metadata": {
        "id": "s3V4v8cGD_g3"
      },
      "execution_count": null,
      "outputs": []
    },
    {
      "cell_type": "markdown",
      "source": [
        "- A method that, given a phrase and a character, it returns the number of occurences of that character at\n",
        "the phrase.\n"
      ],
      "metadata": {
        "id": "o2E9pCa8bjyL"
      }
    },
    {
      "cell_type": "code",
      "source": [
        "def occurs(x, char):\n",
        "  result = 0\n",
        "  for i in range(len(x)):\n",
        "    if x[i] == char:\n",
        "      result = result + 1\n",
        "  return result\n",
        "\n",
        "occurs(\"hello\", \"l\")\n"
      ],
      "metadata": {
        "id": "lv1dsGgRFkA7"
      },
      "execution_count": null,
      "outputs": []
    },
    {
      "cell_type": "code",
      "source": [
        "def occ(phrase, character):\n",
        "  count = 0\n",
        "  for i in phrase:\n",
        "    if i == character:\n",
        "      count += 1\n",
        "  return count\n",
        "print(occ('hello', 'l'))"
      ],
      "metadata": {
        "id": "d2sxFYIkImAd"
      },
      "execution_count": null,
      "outputs": []
    },
    {
      "cell_type": "code",
      "source": [
        "def num_occurances(phrase, character):\n",
        "    count = 0\n",
        "    for i in range(len(phrase)):\n",
        "      if phrase[i] == character:\n",
        "        count += 1\n",
        "    return(count)\n",
        "print(num_occurances(\"hello\", 'l'))"
      ],
      "metadata": {
        "id": "Ce-nNeloChvi"
      },
      "execution_count": null,
      "outputs": []
    },
    {
      "cell_type": "markdown",
      "source": [
        "- A method that, given a phrase, it will print out the number of occurences of every character in the phrase.\n"
      ],
      "metadata": {
        "id": "AW_0lx8xbnHf"
      }
    },
    {
      "cell_type": "code",
      "source": [
        "def all_occur(x):\n",
        "  result = []\n",
        "  for i in range(len(x)):\n",
        "    result = result + [[x[i], occurs(x, x[i])]]\n",
        "    print(\"Current result is: \")\n",
        "    for j in result:\n",
        "       print(j)\n",
        "  return result\n",
        "\n",
        "all_occur(\"Maddy\")"
      ],
      "metadata": {
        "id": "C44dcwe_Cadp"
      },
      "execution_count": null,
      "outputs": []
    },
    {
      "cell_type": "code",
      "source": [
        "def each_occurance(phrase):\n",
        "  used_characters = []\n",
        "  for i in range(len(phrase)):\n",
        "    character = phrase[i]\n",
        "    if character in used_characters:\n",
        "      continue\n",
        "    else:\n",
        "      print(\"# of {}'s: {}\".format(phrase[i], num_occurances(phrase, phrase[i])))\n",
        "      used_characters += character\n",
        "\n",
        "each_occurance(str(input('input a phrase: ')))"
      ],
      "metadata": {
        "id": "B7VK8urIJBxb"
      },
      "execution_count": null,
      "outputs": []
    },
    {
      "cell_type": "markdown",
      "source": [
        "- A method that, given a number, it returns if its a prime number or not.\n"
      ],
      "metadata": {
        "id": "i1BQCZpebo9a"
      }
    },
    {
      "cell_type": "code",
      "source": [
        "def is_prime(n):\n",
        "  for i in range(n-1, 2, -1):\n",
        "    print(\"Current i:\" + str(i))\n",
        "    if n % i == 0:\n",
        "      return('not prime')\n",
        "  return('is prime')\n",
        "\n",
        "is_prime(int(input('input a number: ')))"
      ],
      "metadata": {
        "id": "Zwn3lx3SK53H"
      },
      "execution_count": null,
      "outputs": []
    },
    {
      "cell_type": "code",
      "source": [
        "def prime(n):\n",
        "  is_prime = True\n",
        "  for i in range(2, n):\n",
        "    if n % i == 0.0:\n",
        "      is_prime = False\n",
        "  return is_prime"
      ],
      "metadata": {
        "id": "wk-UzLuvDEN6"
      },
      "execution_count": null,
      "outputs": []
    },
    {
      "cell_type": "markdown",
      "source": [
        "- A method that, given a number, it returns the next prime number closest to it."
      ],
      "metadata": {
        "id": "ZNenMWbdbqyo"
      }
    },
    {
      "cell_type": "code",
      "source": [
        "def next_prime(n):\n",
        "  next = n\n",
        "  while True:\n",
        "    next = next + 1\n",
        "    if prime(next):\n",
        "      return next\n",
        "\n",
        "next_prime(1345)\n"
      ],
      "metadata": {
        "id": "z5r5g_78C6Cu"
      },
      "execution_count": null,
      "outputs": []
    }
  ]
}