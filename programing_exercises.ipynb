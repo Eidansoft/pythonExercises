{
  "nbformat": 4,
  "nbformat_minor": 0,
  "metadata": {
    "colab": {
      "provenance": [],
      "authorship_tag": "ABX9TyOcfwyCz7IutsPnRw6MVGXl",
      "include_colab_link": true
    },
    "kernelspec": {
      "name": "python3",
      "display_name": "Python 3"
    },
    "language_info": {
      "name": "python"
    }
  },
  "cells": [
    {
      "cell_type": "markdown",
      "metadata": {
        "id": "view-in-github",
        "colab_type": "text"
      },
      "source": [
        "<a href=\"https://colab.research.google.com/github/Eidansoft/pythonExercises/blob/master/programing_exercises.ipynb\" target=\"_parent\"><img src=\"https://colab.research.google.com/assets/colab-badge.svg\" alt=\"Open In Colab\"/></a>"
      ]
    },
    {
      "cell_type": "markdown",
      "source": [
        "# Basic Programming Exercises - Week1\n"
      ],
      "metadata": {
        "id": "SWbxQlfBbOQg"
      }
    },
    {
      "cell_type": "markdown",
      "source": [
        "- Play with the method 'range(3, 30, 3)' and implement your own version."
      ],
      "metadata": {
        "id": "ruivsqB0ZlIq"
      }
    },
    {
      "cell_type": "code",
      "source": [
        "def myrange(init, end, jump):\n"
      ],
      "metadata": {
        "id": "7Psgogn7aESo"
      },
      "execution_count": null,
      "outputs": []
    },
    {
      "cell_type": "markdown",
      "source": [
        "- A method that, given a number, it returns the sum of all numbers between 1 until n."
      ],
      "metadata": {
        "id": "QxdRVYvxdKkM"
      }
    },
    {
      "cell_type": "code",
      "source": [
        "number_input = int(input('Enter an integer : '))\n",
        "def number(n):\n",
        "    return sum(range(n+1))\n",
        "number(number_input)"
      ],
      "metadata": {
        "id": "pTNdpoBh4bt_"
      },
      "execution_count": null,
      "outputs": []
    },
    {
      "cell_type": "markdown",
      "source": [
        "- A method that, given a number n, it returns (n(n+1))/2"
      ],
      "metadata": {
        "id": "pMlqS9W2dl6J"
      }
    },
    {
      "cell_type": "code",
      "source": [
        "number_input = int(input('Enter an integer : '))\n",
        "def number(n):\n",
        "    return ((n*(n+1))/2)\n",
        "number(number_input)\n"
      ],
      "metadata": {
        "id": "Dupt1Ede8Z0-"
      },
      "execution_count": null,
      "outputs": []
    },
    {
      "cell_type": "markdown",
      "source": [
        "- A method that, given a word or phrase, it print out backwards."
      ],
      "metadata": {
        "id": "dBlSEB_ndJSJ"
      }
    },
    {
      "cell_type": "code",
      "source": [
        "def backwards(n):\n",
        "  print(\"len(n):\" + str(len(n)))\n",
        "  for i in range(len(n)-1, -1, -1):\n",
        "    print(i)\n",
        "  for i in range(len(n)-1, -1, -1):\n",
        "    print(n[i], end=\"\")\n",
        "backwards(\"hello\")"
      ],
      "metadata": {
        "id": "OJw8Kabd_JNM"
      },
      "execution_count": null,
      "outputs": []
    },
    {
      "cell_type": "code",
      "source": [
        "def reverse_string_while():\n",
        "    input_string = input(\"Enter a word or phrase: \")\n",
        "    reversed_string = ''\n",
        "    length = len(input_string) - 1\n",
        "    while length >= 0:\n",
        "        #reversed_string = reversed_string + input_string[length]\n",
        "        reversed_string += input_string[length]\n",
        "        #length = length - 1\n",
        "        length -= 1\n",
        "        print(\"Current reversed_string is: \" + reversed_string)\n",
        "    print(reversed_string)\n",
        "reverse_string_while()"
      ],
      "metadata": {
        "id": "s3V4v8cGD_g3"
      },
      "execution_count": null,
      "outputs": []
    },
    {
      "cell_type": "markdown",
      "source": [
        "- A method that, given a phrase and a character, it returns the number of occurences of that character at\n",
        "the phrase.\n"
      ],
      "metadata": {
        "id": "o2E9pCa8bjyL"
      }
    },
    {
      "cell_type": "code",
      "source": [
        "def num_occurances(phrase, character):\n",
        "    count = 0\n",
        "    for i in range(len(phrase)):\n",
        "      if phrase[i] == character:\n",
        "        count += 1\n",
        "    return(count)\n",
        "print(num_occurances(\"hello\", 'l'))"
      ],
      "metadata": {
        "id": "Ce-nNeloChvi"
      },
      "execution_count": null,
      "outputs": []
    },
    {
      "cell_type": "markdown",
      "source": [
        "- A method that, given a phrase, it will print out the number of occurences of every character in the phrase.\n"
      ],
      "metadata": {
        "id": "AW_0lx8xbnHf"
      }
    },
    {
      "cell_type": "code",
      "source": [
        "def each_occurance(phrase):\n",
        "  used_characters = []\n",
        "  for i in range(len(phrase)):\n",
        "    character = phrase[i]\n",
        "    if character in used_characters:\n",
        "      continue\n",
        "    else:\n",
        "      print(\"# of {}'s: {}\".format(phrase[i], num_occurances(phrase, phrase[i])))\n",
        "      used_characters += character\n",
        "each_occurance('this is my sentence')"
      ],
      "metadata": {
        "id": "B7VK8urIJBxb"
      },
      "execution_count": null,
      "outputs": []
    },
    {
      "cell_type": "markdown",
      "source": [
        "- A method that, given a number, it returns if its a prime number or not.\n"
      ],
      "metadata": {
        "id": "i1BQCZpebo9a"
      }
    },
    {
      "cell_type": "code",
      "source": [
        "def is_prime(n):\n",
        "  for i in range(n-1, 2, -1):\n",
        "    if n % i == 0:\n",
        "      return False\n",
        "  return True\n",
        "is_prime(24)"
      ],
      "metadata": {
        "id": "Zwn3lx3SK53H"
      },
      "execution_count": null,
      "outputs": []
    },
    {
      "cell_type": "markdown",
      "source": [
        "- A method that, given a number, it returns the next prime number closest to it."
      ],
      "metadata": {
        "id": "ZNenMWbdbqyo"
      }
    },
    {
      "cell_type": "code",
      "source": [
        "def next_prime(n):\n",
        "  while not is_prime(n):\n",
        "    n += 1\n",
        "  return n\n",
        "next_prime(8)\n"
      ],
      "metadata": {
        "id": "z5r5g_78C6Cu"
      },
      "execution_count": null,
      "outputs": []
    },
    {
      "cell_type": "markdown",
      "source": [
        "# Basic Programming Exercises - Week2"
      ],
      "metadata": {
        "id": "c0uwmYJJylb-"
      }
    },
    {
      "cell_type": "markdown",
      "source": [
        "Implement your own string methods for:\n",
        "- startsWith('abc')\n"
      ],
      "metadata": {
        "id": "y89YhPGLyr-Q"
      }
    },
    {
      "cell_type": "code",
      "source": [
        "def our_startswith2(test_string, input_string):\n",
        "  return input_string == test_string[0:len(input_string)]\n",
        "\n",
        "def our_startswith(test_string, input_string):\n",
        "  counter = 0\n",
        "  while counter < len(input_string):\n",
        "    #print(f'log: {counter} {test_string} {input_string}')\n",
        "    if test_string[counter] != input_string[counter]:\n",
        "      return False\n",
        "    counter = counter + 1\n",
        "  return True\n",
        "\n",
        "test = \"Hello world\"\n",
        "assert our_startswith(test, 'H') == True, \"the startswith do not work with one char\"\n",
        "assert our_startswith(test, 'He') == True, \"the startswith do not work with two chars\"\n",
        "assert our_startswith(test, 'Hello') == True, \"the startswith do not work with first word\"\n",
        "assert our_startswith(test, 'z') == False, \"the startswith do not work with one char\""
      ],
      "metadata": {
        "id": "ArIqJ9drcTdp"
      },
      "execution_count": null,
      "outputs": []
    },
    {
      "cell_type": "markdown",
      "source": [
        "- endsWith('abc')\n"
      ],
      "metadata": {
        "id": "K1Etap4ickRh"
      }
    },
    {
      "cell_type": "code",
      "source": [
        "def our_endsswith(test_string=\"Hello world\", input_string='ld'):\n",
        "  counter = len(input_string)\n",
        "  while counter > 0:\n",
        "    print(f'log: {counter} {test_string} {input_string}')\n",
        "    if test_string[len(test_string)-counter] != input_string[len(input_string)-counter]:\n",
        "      return False\n",
        "    counter = counter - 1\n",
        "  return True\n",
        "\n",
        "def test_endswith_method():\n",
        "  test = \"Hello world\"\n",
        "  assert our_endsswith(test, 'd') == True, \"the startswith do not work with one char\"\n",
        "  assert our_endsswith(test, 'ld') == True, \"the startswith do not work with two chars\"\n",
        "  assert our_endsswith(test, 'world') == True, \"the startswith do not work with first word\"\n",
        "  assert our_endsswith(test, 'z') == False, \"the startswith do not work with one char\"\n",
        "\n",
        "test_endswith_method()\n"
      ],
      "metadata": {
        "id": "pK2NG_24lCXV"
      },
      "execution_count": null,
      "outputs": []
    },
    {
      "cell_type": "markdown",
      "source": [
        "- upper()"
      ],
      "metadata": {
        "id": "fRhmco1ccxBn"
      }
    },
    {
      "cell_type": "code",
      "source": [
        "def change_to_upper(input):\n",
        "  input = chr(ord(input)-32)\n",
        "  return input\n",
        "\n",
        "def change_to_upper_string(input):\n",
        "  counter = 0\n",
        "  upp = \"\"\n",
        "  while counter < len(input):\n",
        "    if input[counter] == ' ':\n",
        "      upp += \" \"\n",
        "    elif ord(input[counter]) >= 65 and ord(input[counter]) <= 90:\n",
        "      upp = upp + input[counter]\n",
        "    else:\n",
        "      upp += change_to_upper(input[counter])\n",
        "    counter += 1\n",
        "    #print(f'log {upp}')\n",
        "  return upp\n",
        "\n",
        "assert change_to_upper_string('hello') == \"HELLO\", 'our_upper do not work'\n",
        "assert change_to_upper_string('a') == \"A\",  'our_upper do not work'\n",
        "assert change_to_upper_string('hello world') == \"HELLO WORLD\",  'our_upper do not work'\n",
        "assert change_to_upper_string('heLLo') == \"HELLO\", 'our_upper do not work'\n",
        "assert change_to_upper_string('HELLO') == \"HELLO\", 'our_upper do not work'\n",
        "assert change_to_upper_string('HELLO WORLD') == \"HELLO WORLD\", 'our_upper do not work'"
      ],
      "metadata": {
        "id": "-Kzd0dpDz7r6"
      },
      "execution_count": null,
      "outputs": []
    },
    {
      "cell_type": "markdown",
      "source": [
        "- lower()"
      ],
      "metadata": {
        "id": "TwSmEMm8c3Sa"
      }
    },
    {
      "cell_type": "code",
      "source": [
        "#create lower function\n",
        "def change_to_lower(input):\n",
        "  input = chr(ord(input)+32)\n",
        "  return input\n",
        "\n",
        "def setting_lower(input):\n",
        "  counter = 0\n",
        "  low = ''\n",
        "  while counter < len(input):\n",
        "    if ord(input[counter]) >= 65 and ord(input[counter]) <= 90:\n",
        "      low += change_to_lower(input[counter])\n",
        "    else:\n",
        "      low = low + input[counter]\n",
        "    counter += 1\n",
        "  return low\n",
        "\n",
        "assert setting_lower('A') == 'a', 'the setting_upper do not work'  ##both assert will give the false result since that is what we called to return instead\n",
        "assert setting_lower('HELLO WORLD') == 'hello world', 'the setting_upper do not work'\n",
        "assert setting_lower('HELLO') == 'hello', 'the setting_upper do not work'\n",
        "assert setting_lower('hElLO') == 'hello', 'the setting_upper do not work'\n",
        "assert setting_lower('hElLO,WOrLd') == 'hello,world', 'the setting_upper do not work'"
      ],
      "metadata": {
        "id": "QWyxEnaGCjoN"
      },
      "execution_count": null,
      "outputs": []
    },
    {
      "cell_type": "markdown",
      "source": [
        "- swapcase()"
      ],
      "metadata": {
        "id": "CxmqrPt-dObf"
      }
    },
    {
      "cell_type": "code",
      "source": [
        "def change_lower_upper(input):\n",
        "  count = 0\n",
        "  phrase = \"\"\n",
        "  while count < len(input):\n",
        "    if ord(input[count]) >= 97 and ord(input[count]) <= 122:\n",
        "      phrase = phrase+ change_to_upper(input[count])\n",
        "    elif ord(input[count]) >= 65 and ord(input[count]) <= 90:\n",
        "      phrase = phrase + change_to_lower(input[count])\n",
        "    else:\n",
        "      phrase = phrase + input[count]\n",
        "    count+=1\n",
        "  return phrase\n",
        "\n",
        "change_lower_upper('heLLo World')"
      ],
      "metadata": {
        "id": "0l2xItmzEvGY"
      },
      "execution_count": null,
      "outputs": []
    },
    {
      "cell_type": "markdown",
      "source": [
        "Create a method to implement a `caesar` encryption"
      ],
      "metadata": {
        "id": "X4IQx_Mkev59"
      }
    },
    {
      "cell_type": "code",
      "source": [
        "input_word = input(\"Input word to be encrypted: \")\n",
        "input_key = int(input(\"Input key number (number of letter jumps): \"))\n",
        "\n",
        "def encryption(input, key):\n",
        "  input = chr(ord(input) + key)\n",
        "  return input\n",
        "\n",
        "def word_encrypted(input, key):\n",
        "  counter = 0\n",
        "  word =''\n",
        "  while counter < len(input):\n",
        "\n",
        "    #for all upper/lowercase letters (excluding end characters), skip key number of words\n",
        "    if ord(input[counter]) >= 65 and ord(input[counter]) <= (90-key) or ord(input[counter]) >= 97 and ord(input[counter]) <= (122-key):\n",
        "      word += encryption(input[counter], key)\n",
        "\n",
        "    elif ord(input[counter]) > (122 - key) and ord(input[counter]) <= 122: #for lowercase at end of alphabet\n",
        "      word += chr(ord(input[counter]) - 26 + key)\n",
        "\n",
        "    elif ord(input[counter]) > (90 - key) and ord(input[counter]) <= 90: #for uppercase at end of alphabet\n",
        "      word += chr(ord(input[counter]) - 26 + key)\n",
        "\n",
        "    else:\n",
        "      word += input[counter] #keeps all other characters the same\n",
        "\n",
        "    counter += 1 #increment\n",
        "  return word\n",
        "\n",
        "#word_encrypted('ABCDEFGHIJKLMNOPQRSTUVWXYZ abcdefghijklmnopqrstuvwxyz')\n",
        "word_encrypted(input_word, input_key)"
      ],
      "metadata": {
        "id": "mWB779ac4Qhu"
      },
      "execution_count": null,
      "outputs": []
    },
    {
      "cell_type": "markdown",
      "source": [
        "Create a method to implement a caesar decryption"
      ],
      "metadata": {
        "id": "SIXC-W36e6Qz"
      }
    },
    {
      "cell_type": "code",
      "source": [
        "def deencrypt(input, key):\n",
        "  return word_encrypted(input, -(key))\n",
        "\n",
        "print(word_encrypted('hello', 3))\n",
        "print(deencrypt('khoor', 3))\n",
        "assert deencrypt(word_encrypted('hello', 3), 3) == 'hello'"
      ],
      "metadata": {
        "id": "jX8XKIrX_SO_"
      },
      "execution_count": null,
      "outputs": []
    },
    {
      "cell_type": "markdown",
      "source": [
        "Implement a method that returns you a random element from a list. So that if the list contains all class member names, the method will return a random name from it, and then will remove that from the list, so next execution will not repeat the choosen member. You can get a random number using `random.randrange(1, 10)`"
      ],
      "metadata": {
        "id": "quKE075NzzCx"
      }
    },
    {
      "cell_type": "code",
      "source": [
        "import random\n",
        "#random.randrange(1, 10)\n",
        "test = ['Sara', 'Pepito', 'Fulanito', 'Setanito', 'Garbancito']\n",
        "print(test[random.randrange(0, len(test))])"
      ],
      "metadata": {
        "id": "3XgdR2KSDzm9"
      },
      "execution_count": null,
      "outputs": []
    },
    {
      "cell_type": "code",
      "source": [
        "import random\n",
        "def load():\n",
        "  return ['pepito', 'fulanito', 'menganito', 'setanito']\n",
        "def get_random_element(list):\n",
        "  print(\"List size: \" + str(len(list)))\n",
        "  if len(list) != 0:\n",
        "    index = random.randrange(0, len(list))\n",
        "    element_choosen = list[index]\n",
        "    list.remove(element_choosen)\n",
        "  else:\n",
        "    print(\"ERROR the list is empty!\")\n",
        "    element_choosen = None\n",
        "  return element_choosen\n",
        "\n",
        "#elems = load()\n",
        "get_random_element(elems)"
      ],
      "metadata": {
        "id": "B42jPmVu1W_7"
      },
      "execution_count": null,
      "outputs": []
    },
    {
      "cell_type": "markdown",
      "source": [
        "Implements a game that thinks a random number and offer you X attemps to guess it."
      ],
      "metadata": {
        "id": "8F81LctkgtDW"
      }
    },
    {
      "cell_type": "code",
      "source": [
        "import random\n",
        "guess = -1\n",
        "num = random.randrange(0, 1000)\n",
        "count = 0\n",
        "while guess != num and count < 3:\n",
        "   guess = int(input('Give me a number: '))\n",
        "   count = count + 1\n",
        "   print(f'log: {guess} # {num}')\n",
        "if guess == num:\n",
        "  print(f\"You guess the number: {guess}\")\n",
        "else:\n",
        "  print(f\"You ran out of attemps, sorry: {num}\")"
      ],
      "metadata": {
        "id": "ElIPoiSMII3b"
      },
      "execution_count": null,
      "outputs": []
    },
    {
      "cell_type": "markdown",
      "source": [
        "Implements a game that thinks a random letter and offers you X attempts to guess it."
      ],
      "metadata": {
        "id": "c9gG9h-mhKrN"
      }
    },
    {
      "cell_type": "markdown",
      "source": [
        "Implements a game that thinks a random word and you must guess the word letter by letter or providing the whole word, but you will have a limit of tries."
      ],
      "metadata": {
        "id": "UXRPIglKhXr_"
      }
    },
    {
      "cell_type": "code",
      "source": [
        "import random, re\n",
        "\n",
        "def progress_check(word, attempts):\n",
        "  attempts = list(set(attempts))\n",
        "  counter = 0\n",
        "  progress = ''\n",
        "  while counter < len(word):\n",
        "    flag = False\n",
        "    counter2 = 0\n",
        "    while counter2 < len(attempts):\n",
        "      if word[counter] == attempts[counter2]:\n",
        "        progress += attempts[counter2]\n",
        "        flag = True\n",
        "      counter2 += 1\n",
        "    if flag == False:\n",
        "      progress += '_'\n",
        "    counter += 1\n",
        "  return progress\n",
        "\n",
        "def convert_to_list(list_txt):\n",
        "  return list_txt.split()\n",
        "\n",
        "def hangman():\n",
        "  with open('words_for_hangman.txt', 'r') as fd:\n",
        "    plain_text_words = fd.read()\n",
        "  word = convert_to_list(plain_text_words)\n",
        "  choosen_word = word[random.randrange(0, len(word))].lower()\n",
        "  choosen_word = re.sub(\"[^a-z]+\", \"\", choosen_word)\n",
        "  progress = '_' * len(choosen_word)\n",
        "  use_letters = []\n",
        "  max_attempts = 5\n",
        "  while progress != choosen_word and len(use_letters) < max_attempts:\n",
        "    print(progress)\n",
        "    attempt = input(\"Give character: \")\n",
        "    use_letters += attempt\n",
        "    if attempt in choosen_word:\n",
        "      progress = progress_check(choosen_word, use_letters)\n",
        "      max_attempts += 1\n",
        "  if progress == choosen_word:\n",
        "    print(f\"Congrats! You won! The word was: {progress}\")\n",
        "  else:\n",
        "    print(f\"Game over, too much failures the word was: {choosen_word}\")\n",
        "\n",
        "hangman()"
      ],
      "metadata": {
        "id": "Hh7CUxnDesLr"
      },
      "execution_count": null,
      "outputs": []
    },
    {
      "cell_type": "code",
      "source": [
        "import json\n",
        "\n",
        "test = [{\"title\": \"21 Lessons for 21st century\",\n",
        "        \"author\": \"Yuval Harari\",\n",
        "        \"year\": 2020},\n",
        "        {\"title\": \"Secrets Codes\",\n",
        "         \"author\": \"Simon Singh\",\n",
        "         \"year\": 1999}]\n",
        "\n",
        "#new_book = {}\n",
        "#new_book['title'] = input('Title: ')\n",
        "#new_book['author'] = input('Author: ')\n",
        "#new_book['year'] = int(input('Year: '))\n",
        "#test += [new_book]\n",
        "\n",
        "\n",
        "print(test)\n",
        "print(json.dumps(test))\n",
        "#num = int(input(\"Give me an index:\" ))\n",
        "#print(test[num])\n",
        "# file access modes\n",
        "# - r read\n",
        "# - w write\n",
        "# - a add\n",
        "#with open('data.txt', 'w') as fd:\n",
        "#  fd.write(json.dumps(test))\n",
        "with open('data.txt', 'r') as fd:\n",
        "  test2 = fd.read()\n",
        "print(test2)"
      ],
      "metadata": {
        "colab": {
          "base_uri": "https://localhost:8080/"
        },
        "id": "awoNHBub3jKQ",
        "outputId": "44f664ea-ed4d-4caa-9738-de49b7b08932"
      },
      "execution_count": 36,
      "outputs": [
        {
          "output_type": "stream",
          "name": "stdout",
          "text": [
            "[{'title': '21 Lessons for 21st century', 'author': 'Yuval Harari', 'year': 2020}, {'title': 'Secrets Codes', 'author': 'Simon Singh', 'year': 1999}]\n",
            "[{\"title\": \"21 Lessons for 21st century\", \"author\": \"Yuval Harari\", \"year\": 2020}, {\"title\": \"Secrets Codes\", \"author\": \"Simon Singh\", \"year\": 1999}]\n",
            "[{\"title\": \"21 Lessons for 21st century\", \"author\": \"Yuval Harari\", \"year\": 2020}, {\"title\": \"Secrets Codes\", \"author\": \"Simon Singh\", \"year\": 1999},{\"title\":\"this has been added\", \"author\": \"Alejandro\", \"year\": 2023}]\n"
          ]
        }
      ]
    },
    {
      "cell_type": "code",
      "source": [],
      "metadata": {
        "id": "hMFw4uMyALeO"
      },
      "execution_count": null,
      "outputs": []
    },
    {
      "cell_type": "markdown",
      "source": [
        "# Basic Programming Exercises - Week 3"
      ],
      "metadata": {
        "id": "qEPVi1iJdlbo"
      }
    },
    {
      "cell_type": "markdown",
      "source": [
        "Grab some text from the web, and study the frecuency of each letter."
      ],
      "metadata": {
        "id": "ptHlB5RPfBvi"
      }
    },
    {
      "cell_type": "code",
      "source": [
        "test = \"Tom Cruise's seventh Mission: Impossible film is an unusual mix of high-tech and low-tech, of ultra-modern and defiantly traditional. The villain in Mission: Impossible – Dead Reckoning Part One (let's call it Mission: Impossible 7 or M:I-7 for short) isn't even a human being, but a sentient artificial intelligence called The Entity. It isn't content with stealing jobs from hardworking journalists, like so many AIs. It wants to have total control of every scrap of information on Earth. This all seems horribly plausible, and, in one early scene, the threat is illustrated by one of the film's few memorable images (stunts aside): a room full of typists hurriedly transferring the intelligence services' data to paper so that The Entity can't read it.\"\n",
        "each_occurance(test)"
      ],
      "metadata": {
        "id": "_PKNepYYfgFn"
      },
      "execution_count": null,
      "outputs": []
    }
  ]
}