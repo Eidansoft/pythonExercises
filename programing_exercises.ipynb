{
  "nbformat": 4,
  "nbformat_minor": 0,
  "metadata": {
    "colab": {
      "provenance": [],
      "authorship_tag": "ABX9TyPZX990v3xN7qBCKG2A62bH",
      "include_colab_link": true
    },
    "kernelspec": {
      "name": "python3",
      "display_name": "Python 3"
    },
    "language_info": {
      "name": "python"
    }
  },
  "cells": [
    {
      "cell_type": "markdown",
      "metadata": {
        "id": "view-in-github",
        "colab_type": "text"
      },
      "source": [
        "<a href=\"https://colab.research.google.com/github/Eidansoft/pythonExercises/blob/master/programing_exercises.ipynb\" target=\"_parent\"><img src=\"https://colab.research.google.com/assets/colab-badge.svg\" alt=\"Open In Colab\"/></a>"
      ]
    },
    {
      "cell_type": "markdown",
      "source": [
        "# Basic Programming Exercises - Week1\n"
      ],
      "metadata": {
        "id": "SWbxQlfBbOQg"
      }
    },
    {
      "cell_type": "markdown",
      "source": [
        "- Play with the method 'range(3, 30, 3)' and implement your own version."
      ],
      "metadata": {
        "id": "ruivsqB0ZlIq"
      }
    },
    {
      "cell_type": "code",
      "source": [
        "def myrange(init, end, jump):\n",
        ""
      ],
      "metadata": {
        "id": "7Psgogn7aESo"
      },
      "execution_count": null,
      "outputs": []
    },
    {
      "cell_type": "markdown",
      "source": [
        "- A method that, given a number, it returns the sum of all numbers between 1 until n."
      ],
      "metadata": {
        "id": "QxdRVYvxdKkM"
      }
    },
    {
      "cell_type": "code",
      "source": [
        "number_input = int(input('Enter an integer : '))\n",
        "def number(n):\n",
        "    return sum(range(n+1))\n",
        "number(number_input)"
      ],
      "metadata": {
        "id": "pTNdpoBh4bt_"
      },
      "execution_count": null,
      "outputs": []
    },
    {
      "cell_type": "markdown",
      "source": [
        "- A method that, given a number n, it returns (n(n+1))/2"
      ],
      "metadata": {
        "id": "pMlqS9W2dl6J"
      }
    },
    {
      "cell_type": "code",
      "source": [
        "number_input = int(input('Enter an integer : '))\n",
        "def number(n):\n",
        "    return ((n*(n+1))/2)\n",
        "number(number_input)\n"
      ],
      "metadata": {
        "id": "Dupt1Ede8Z0-"
      },
      "execution_count": null,
      "outputs": []
    },
    {
      "cell_type": "markdown",
      "source": [
        "- A method that, given a word or phrase, it print out backwards."
      ],
      "metadata": {
        "id": "dBlSEB_ndJSJ"
      }
    },
    {
      "cell_type": "code",
      "source": [
        "def backwards(n):\n",
        "  print(\"len(n):\" + str(len(n)))\n",
        "  for i in range(len(n)-1, -1, -1):\n",
        "    print(i)\n",
        "  for i in range(len(n)-1, -1, -1):\n",
        "    print(n[i], end=\"\")\n",
        "backwards(\"hello\")"
      ],
      "metadata": {
        "id": "OJw8Kabd_JNM"
      },
      "execution_count": null,
      "outputs": []
    },
    {
      "cell_type": "code",
      "source": [
        "def reverse_string_while():\n",
        "    input_string = input(\"Enter a word or phrase: \")\n",
        "    reversed_string = ''\n",
        "    length = len(input_string) - 1\n",
        "    while length >= 0:\n",
        "        #reversed_string = reversed_string + input_string[length]\n",
        "        reversed_string += input_string[length]\n",
        "        #length = length - 1\n",
        "        length -= 1\n",
        "        print(\"Current reversed_string is: \" + reversed_string)\n",
        "    print(reversed_string)\n",
        "reverse_string_while()"
      ],
      "metadata": {
        "id": "s3V4v8cGD_g3"
      },
      "execution_count": null,
      "outputs": []
    },
    {
      "cell_type": "markdown",
      "source": [
        "- A method that, given a phrase and a character, it returns the number of occurences of that character at\n",
        "the phrase.\n"
      ],
      "metadata": {
        "id": "o2E9pCa8bjyL"
      }
    },
    {
      "cell_type": "code",
      "source": [
        "def num_occurances(phrase, character):\n",
        "    count = 0\n",
        "    for i in range(len(phrase)):\n",
        "      if phrase[i] == character:\n",
        "        count += 1\n",
        "    return(count)\n",
        "print(num_occurances(\"hello\", 'l'))"
      ],
      "metadata": {
        "id": "Ce-nNeloChvi"
      },
      "execution_count": null,
      "outputs": []
    },
    {
      "cell_type": "markdown",
      "source": [
        "- A method that, given a phrase, it will print out the number of occurences of every character in the phrase.\n"
      ],
      "metadata": {
        "id": "AW_0lx8xbnHf"
      }
    },
    {
      "cell_type": "code",
      "source": [
        "def each_occurance(phrase):\n",
        "  used_characters = []\n",
        "  for i in range(len(phrase)):\n",
        "    character = phrase[i]\n",
        "    if character in used_characters:\n",
        "      continue\n",
        "    else:\n",
        "      print(\"# of {}'s: {}\".format(phrase[i], num_occurances(phrase, phrase[i])))\n",
        "      used_characters += character\n",
        "each_occurance('this is my sentence')"
      ],
      "metadata": {
        "id": "B7VK8urIJBxb"
      },
      "execution_count": null,
      "outputs": []
    },
    {
      "cell_type": "markdown",
      "source": [
        "- A method that, given a number, it returns if its a prime number or not.\n"
      ],
      "metadata": {
        "id": "i1BQCZpebo9a"
      }
    },
    {
      "cell_type": "code",
      "source": [
        "def is_prime(n):\n",
        "  for i in range(n-1, 2, -1):\n",
        "    if n % i == 0:\n",
        "      return False\n",
        "  return True\n",
        "is_prime(24)"
      ],
      "metadata": {
        "id": "Zwn3lx3SK53H"
      },
      "execution_count": null,
      "outputs": []
    },
    {
      "cell_type": "markdown",
      "source": [
        "- A method that, given a number, it returns the next prime number closest to it."
      ],
      "metadata": {
        "id": "ZNenMWbdbqyo"
      }
    },
    {
      "cell_type": "code",
      "source": [
        "def next_prime(n):\n",
        "  while not is_prime(n):\n",
        "    n += 1\n",
        "  return n\n",
        "next_prime(8)\n"
      ],
      "metadata": {
        "id": "z5r5g_78C6Cu"
      },
      "execution_count": null,
      "outputs": []
    },
    {
      "cell_type": "markdown",
      "source": [
        "# Basic Programming Exercises - Week2"
      ],
      "metadata": {
        "id": "c0uwmYJJylb-"
      }
    },
    {
      "cell_type": "markdown",
      "source": [
        "Implement your own string methods for:\n",
        "- startsWith('abc')\n"
      ],
      "metadata": {
        "id": "y89YhPGLyr-Q"
      }
    },
    {
      "cell_type": "code",
      "source": [
        "def our_startswith2(test_string, input_string):\n",
        "  return input_string == test_string[0:len(input_string)]\n",
        "\n",
        "def our_startswith(test_string, input_string):\n",
        "  counter = 0\n",
        "  while counter < len(input_string):\n",
        "    #print(f'log: {counter} {test_string} {input_string}')\n",
        "    if test_string[counter] != input_string[counter]:\n",
        "      return False\n",
        "    counter = counter + 1\n",
        "  return True\n",
        "\n",
        "test = \"Hello world\"\n",
        "assert our_startswith(test, 'H') == True, \"the startswith do not work with one char\"\n",
        "assert our_startswith(test, 'He') == True, \"the startswith do not work with two chars\"\n",
        "assert our_startswith(test, 'Hello') == True, \"the startswith do not work with first word\"\n",
        "assert our_startswith(test, 'z') == False, \"the startswith do not work with one char\""
      ],
      "metadata": {
        "id": "ArIqJ9drcTdp"
      },
      "execution_count": 10,
      "outputs": []
    },
    {
      "cell_type": "markdown",
      "source": [
        "- endsWith('abc')\n"
      ],
      "metadata": {
        "id": "K1Etap4ickRh"
      }
    },
    {
      "cell_type": "code",
      "source": [
        "def our_endsswith(test_string=\"Hello world\", input_string='ld'):\n",
        "  counter = len(input_string)\n",
        "  while counter > 0:\n",
        "    print(f'log: {counter} {test_string} {input_string}')\n",
        "    if test_string[len(test_string)-counter] != input_string[len(input_string)-counter]:\n",
        "      return False\n",
        "    counter = counter - 1\n",
        "  return True\n",
        "\n",
        "def test_endswith_method():\n",
        "  test = \"Hello world\"\n",
        "  assert our_endsswith(test, 'd') == True, \"the startswith do not work with one char\"\n",
        "  assert our_endsswith(test, 'ld') == True, \"the startswith do not work with two chars\"\n",
        "  assert our_endsswith(test, 'world') == True, \"the startswith do not work with first word\"\n",
        "  assert our_endsswith(test, 'z') == False, \"the startswith do not work with one char\"\n",
        "\n",
        "test_endswith_method()\n"
      ],
      "metadata": {
        "id": "pK2NG_24lCXV"
      },
      "execution_count": null,
      "outputs": []
    },
    {
      "cell_type": "markdown",
      "source": [
        "- upper()"
      ],
      "metadata": {
        "id": "fRhmco1ccxBn"
      }
    },
    {
      "cell_type": "code",
      "source": [
        "def change_to_upper(input):\n",
        "  input = chr(ord(input)-32)\n",
        "  return input\n",
        "\n",
        "def change_to_upper_string(input):\n",
        "  counter = 0\n",
        "  upp = \"\"\n",
        "  while counter < len(input):\n",
        "    if input[counter] == ' ':\n",
        "      upp += \" \"\n",
        "    elif ord(input[counter]) >= 65 and ord(input[counter]) <= 90:\n",
        "      upp = upp + input[counter]\n",
        "    else:\n",
        "      upp += change_to_upper(input[counter])\n",
        "    counter += 1\n",
        "    #print(f'log {upp}')\n",
        "  return upp\n",
        "\n",
        "assert change_to_upper_string('hello') == \"HELLO\", 'our_upper do not work'\n",
        "assert change_to_upper_string('a') == \"A\",  'our_upper do not work'\n",
        "assert change_to_upper_string('hello world') == \"HELLO WORLD\",  'our_upper do not work'\n",
        "assert change_to_upper_string('heLLo') == \"HELLO\", 'our_upper do not work'\n",
        "assert change_to_upper_string('HELLO') == \"HELLO\", 'our_upper do not work'\n",
        "assert change_to_upper_string('HELLO WORLD') == \"HELLO WORLD\", 'our_upper do not work'"
      ],
      "metadata": {
        "id": "-Kzd0dpDz7r6"
      },
      "execution_count": 12,
      "outputs": []
    },
    {
      "cell_type": "markdown",
      "source": [
        "- lower()"
      ],
      "metadata": {
        "id": "TwSmEMm8c3Sa"
      }
    },
    {
      "cell_type": "code",
      "source": [
        "#create lower function\n",
        "def change_to_lower(input):\n",
        "  input = chr(ord(input)+32)\n",
        "  return input\n",
        "\n",
        "def setting_lower(input):\n",
        "  counter = 0\n",
        "  low = ''\n",
        "  while counter < len(input):\n",
        "    if ord(input[counter]) >= 65 and ord(input[counter]) <= 90:\n",
        "      low += change_to_lower(input[counter])\n",
        "    else:\n",
        "      low = low + input[counter]\n",
        "    counter += 1\n",
        "  return low\n",
        "\n",
        "assert setting_lower('A') == 'a', 'the setting_upper do not work'  ##both assert will give the false result since that is what we called to return instead\n",
        "assert setting_lower('HELLO WORLD') == 'hello world', 'the setting_upper do not work'\n",
        "assert setting_lower('HELLO') == 'hello', 'the setting_upper do not work'\n",
        "assert setting_lower('hElLO') == 'hello', 'the setting_upper do not work'\n",
        "assert setting_lower('hElLO,WOrLd') == 'hello,world', 'the setting_upper do not work'"
      ],
      "metadata": {
        "id": "QWyxEnaGCjoN"
      },
      "execution_count": 13,
      "outputs": []
    },
    {
      "cell_type": "markdown",
      "source": [
        "- swapcase()"
      ],
      "metadata": {
        "id": "CxmqrPt-dObf"
      }
    },
    {
      "cell_type": "code",
      "source": [
        "def change_lower_upper(input):\n",
        "  count = 0\n",
        "  phrase = \"\"\n",
        "  while count < len(input):\n",
        "    if ord(input[count]) >= 97 and ord(input[count]) <= 122:\n",
        "      phrase = phrase+ change_to_upper(input[count])\n",
        "    elif ord(input[count]) >= 65 and ord(input[count]) <= 90:\n",
        "      phrase = phrase + change_to_lower(input[count])\n",
        "    else:\n",
        "      phrase = phrase + input[count]\n",
        "    count+=1\n",
        "  return phrase\n",
        "\n",
        "change_lower_upper('heLLo World')"
      ],
      "metadata": {
        "id": "0l2xItmzEvGY"
      },
      "execution_count": null,
      "outputs": []
    },
    {
      "cell_type": "markdown",
      "source": [
        "# Basic Programming Exercises - Week 3"
      ],
      "metadata": {
        "id": "qEPVi1iJdlbo"
      }
    },
    {
      "cell_type": "markdown",
      "source": [
        "Implement a method that returns you a random element from a list. So that if the list contains all class member names, the method will return a random name from it, and then will remove that from the list, so next execution will not repeat the choosen member. You can get a random number using `random.randrange(1, 10)`"
      ],
      "metadata": {
        "id": "quKE075NzzCx"
      }
    },
    {
      "cell_type": "code",
      "source": [
        "import random\n",
        "print(random.randrange(1,10))"
      ],
      "metadata": {
        "id": "-7ctSpfF0zut"
      },
      "execution_count": null,
      "outputs": []
    },
    {
      "cell_type": "code",
      "source": [
        "import random\n",
        "def load():\n",
        "  return ['pepito', 'fulanito', 'menganito', 'setanito']\n",
        "def get_random_element(list):\n",
        "  print(\"List size: \" + str(len(list)))\n",
        "  if len(list) != 0:\n",
        "    index = random.randrange(0, len(list))\n",
        "    element_choosen = list[index]\n",
        "    list.remove(element_choosen)\n",
        "  else:\n",
        "    print(\"ERROR the list is empty!\")\n",
        "    element_choosen = None\n",
        "  return element_choosen\n",
        "\n",
        "#elems = load()\n",
        "get_random_element(elems)"
      ],
      "metadata": {
        "id": "B42jPmVu1W_7"
      },
      "execution_count": null,
      "outputs": []
    }
  ]
}