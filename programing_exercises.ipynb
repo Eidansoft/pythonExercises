{
  "nbformat": 4,
  "nbformat_minor": 0,
  "metadata": {
    "colab": {
      "provenance": [],
      "authorship_tag": "ABX9TyOLrRXqi6Pngz+p4xDkRB+t",
      "include_colab_link": true
    },
    "kernelspec": {
      "name": "python3",
      "display_name": "Python 3"
    },
    "language_info": {
      "name": "python"
    }
  },
  "cells": [
    {
      "cell_type": "markdown",
      "metadata": {
        "id": "view-in-github",
        "colab_type": "text"
      },
      "source": [
        "<a href=\"https://colab.research.google.com/github/Eidansoft/pythonExercises/blob/master/programing_exercises.ipynb\" target=\"_parent\"><img src=\"https://colab.research.google.com/assets/colab-badge.svg\" alt=\"Open In Colab\"/></a>"
      ]
    },
    {
      "cell_type": "markdown",
      "source": [
        "# Basic Programming Exercises - Week1\n",
        "\n",
        "\n"
      ],
      "metadata": {
        "id": "SWbxQlfBbOQg"
      }
    },
    {
      "cell_type": "markdown",
      "source": [
        "- A method that, given a number, it returns the sum of all numbers between 1 until n."
      ],
      "metadata": {
        "id": "QxdRVYvxdKkM"
      }
    },
    {
      "cell_type": "markdown",
      "source": [
        "- A method that, given a number n, it returns (n(n+1))/2"
      ],
      "metadata": {
        "id": "pMlqS9W2dl6J"
      }
    },
    {
      "cell_type": "markdown",
      "source": [
        "- A method that, given a word or phrase, it print out backwards."
      ],
      "metadata": {
        "id": "dBlSEB_ndJSJ"
      }
    },
    {
      "cell_type": "markdown",
      "source": [
        "- A method that, given a phrase and a character, it returns the number of occurences of that character at\n",
        "the phrase.\n"
      ],
      "metadata": {
        "id": "o2E9pCa8bjyL"
      }
    },
    {
      "cell_type": "markdown",
      "source": [
        "- A method that, given a phrase, it will print out the number of occurences of every character in the phrase.\n"
      ],
      "metadata": {
        "id": "AW_0lx8xbnHf"
      }
    },
    {
      "cell_type": "markdown",
      "source": [
        "- A method that, given a number, it returns if its a prime number or not.\n"
      ],
      "metadata": {
        "id": "i1BQCZpebo9a"
      }
    },
    {
      "cell_type": "markdown",
      "source": [
        "- A method that, given a number, it returns the next prime number closest to it."
      ],
      "metadata": {
        "id": "ZNenMWbdbqyo"
      }
    }
  ]
}