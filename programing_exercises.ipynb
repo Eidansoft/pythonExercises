{
  "nbformat": 4,
  "nbformat_minor": 0,
  "metadata": {
    "colab": {
      "provenance": [],
      "authorship_tag": "ABX9TyPPymyULJbHuUInZTeH8DhI",
      "include_colab_link": true
    },
    "kernelspec": {
      "name": "python3",
      "display_name": "Python 3"
    },
    "language_info": {
      "name": "python"
    }
  },
  "cells": [
    {
      "cell_type": "markdown",
      "metadata": {
        "id": "view-in-github",
        "colab_type": "text"
      },
      "source": [
        "<a href=\"https://colab.research.google.com/github/Eidansoft/pythonExercises/blob/master/programing_exercises.ipynb\" target=\"_parent\"><img src=\"https://colab.research.google.com/assets/colab-badge.svg\" alt=\"Open In Colab\"/></a>"
      ]
    },
    {
      "cell_type": "markdown",
      "source": [
        "# Basic Programming Exercises - Week1\n"
      ],
      "metadata": {
        "id": "SWbxQlfBbOQg"
      }
    },
    {
      "cell_type": "markdown",
      "source": [
        "- Play with the method 'range(3, 30, 3)' and implement your own version."
      ],
      "metadata": {
        "id": "ruivsqB0ZlIq"
      }
    },
    {
      "cell_type": "code",
      "source": [
        "def myrange(init, end, jump):\n"
      ],
      "metadata": {
        "id": "7Psgogn7aESo"
      },
      "execution_count": null,
      "outputs": []
    },
    {
      "cell_type": "markdown",
      "source": [
        "- A method that, given a number, it returns the sum of all numbers between 1 until n."
      ],
      "metadata": {
        "id": "QxdRVYvxdKkM"
      }
    },
    {
      "cell_type": "code",
      "source": [
        "number_input = int(input('Enter an integer : '))\n",
        "def number(n):\n",
        "    return sum(range(n+1))\n",
        "number(number_input)"
      ],
      "metadata": {
        "id": "pTNdpoBh4bt_"
      },
      "execution_count": null,
      "outputs": []
    },
    {
      "cell_type": "markdown",
      "source": [
        "- A method that, given a number n, it returns (n(n+1))/2"
      ],
      "metadata": {
        "id": "pMlqS9W2dl6J"
      }
    },
    {
      "cell_type": "code",
      "source": [
        "number_input = int(input('Enter an integer : '))\n",
        "def number(n):\n",
        "    return ((n*(n+1))/2)\n",
        "number(number_input)\n"
      ],
      "metadata": {
        "id": "Dupt1Ede8Z0-"
      },
      "execution_count": null,
      "outputs": []
    },
    {
      "cell_type": "markdown",
      "source": [
        "- A method that, given a word or phrase, it print out backwards."
      ],
      "metadata": {
        "id": "dBlSEB_ndJSJ"
      }
    },
    {
      "cell_type": "code",
      "source": [
        "def backwards(n):\n",
        "  print(\"len(n):\" + str(len(n)))\n",
        "  for i in range(len(n)-1, -1, -1):\n",
        "    print(i)\n",
        "  for i in range(len(n)-1, -1, -1):\n",
        "    print(n[i], end=\"\")\n",
        "backwards(\"hello\")"
      ],
      "metadata": {
        "id": "OJw8Kabd_JNM"
      },
      "execution_count": null,
      "outputs": []
    },
    {
      "cell_type": "code",
      "source": [
        "def reverse_string_while():\n",
        "    input_string = input(\"Enter a word or phrase: \")\n",
        "    reversed_string = ''\n",
        "    length = len(input_string) - 1\n",
        "    while length >= 0:\n",
        "        #reversed_string = reversed_string + input_string[length]\n",
        "        reversed_string += input_string[length]\n",
        "        #length = length - 1\n",
        "        length -= 1\n",
        "        print(\"Current reversed_string is: \" + reversed_string)\n",
        "    print(reversed_string)\n",
        "reverse_string_while()"
      ],
      "metadata": {
        "id": "s3V4v8cGD_g3"
      },
      "execution_count": null,
      "outputs": []
    },
    {
      "cell_type": "markdown",
      "source": [
        "- A method that, given a phrase and a character, it returns the number of occurences of that character at\n",
        "the phrase.\n"
      ],
      "metadata": {
        "id": "o2E9pCa8bjyL"
      }
    },
    {
      "cell_type": "code",
      "source": [
        "def num_occurances(phrase, character):\n",
        "    count = 0\n",
        "    for i in range(len(phrase)):\n",
        "      if phrase[i] == character:\n",
        "        count += 1\n",
        "    return(count)\n",
        "print(num_occurances(\"hello\", 'l'))"
      ],
      "metadata": {
        "id": "Ce-nNeloChvi"
      },
      "execution_count": null,
      "outputs": []
    },
    {
      "cell_type": "markdown",
      "source": [
        "- A method that, given a phrase, it will print out the number of occurences of every character in the phrase.\n"
      ],
      "metadata": {
        "id": "AW_0lx8xbnHf"
      }
    },
    {
      "cell_type": "code",
      "source": [
        "def each_occurance(phrase):\n",
        "  used_characters = []\n",
        "  for i in range(len(phrase)):\n",
        "    character = phrase[i]\n",
        "    if character in used_characters:\n",
        "      continue\n",
        "    else:\n",
        "      print(\"# of {}'s: {}\".format(phrase[i], num_occurances(phrase, phrase[i])))\n",
        "      used_characters += character\n",
        "each_occurance('this is my sentence')"
      ],
      "metadata": {
        "id": "B7VK8urIJBxb"
      },
      "execution_count": null,
      "outputs": []
    },
    {
      "cell_type": "markdown",
      "source": [
        "- A method that, given a number, it returns if its a prime number or not.\n"
      ],
      "metadata": {
        "id": "i1BQCZpebo9a"
      }
    },
    {
      "cell_type": "code",
      "source": [
        "def is_prime(n):\n",
        "  for i in range(n-1, 2, -1):\n",
        "    if n % i == 0:\n",
        "      return False\n",
        "  return True\n",
        "is_prime(24)"
      ],
      "metadata": {
        "id": "Zwn3lx3SK53H"
      },
      "execution_count": null,
      "outputs": []
    },
    {
      "cell_type": "markdown",
      "source": [
        "- A method that, given a number, it returns the next prime number closest to it."
      ],
      "metadata": {
        "id": "ZNenMWbdbqyo"
      }
    },
    {
      "cell_type": "code",
      "source": [
        "def next_prime(n):\n",
        "  while not is_prime(n):\n",
        "    n += 1\n",
        "  return n\n",
        "next_prime(8)\n"
      ],
      "metadata": {
        "id": "z5r5g_78C6Cu"
      },
      "execution_count": null,
      "outputs": []
    },
    {
      "cell_type": "markdown",
      "source": [
        "# Basic Programming Exercises - Week2"
      ],
      "metadata": {
        "id": "c0uwmYJJylb-"
      }
    },
    {
      "cell_type": "markdown",
      "source": [
        "Implement your own string methods for:\n",
        "- startsWith('abc')\n"
      ],
      "metadata": {
        "id": "y89YhPGLyr-Q"
      }
    },
    {
      "cell_type": "code",
      "source": [
        "def our_startswith2(test_string, input_string):\n",
        "  return input_string == test_string[0:len(input_string)]\n",
        "\n",
        "def our_startswith(test_string, input_string):\n",
        "  counter = 0\n",
        "  while counter < len(input_string):\n",
        "    #print(f'log: {counter} {test_string} {input_string}')\n",
        "    if test_string[counter] != input_string[counter]:\n",
        "      return False\n",
        "    counter = counter + 1\n",
        "  return True\n",
        "\n",
        "test = \"Hello world\"\n",
        "assert our_startswith(test, 'H') == True, \"the startswith do not work with one char\"\n",
        "assert our_startswith(test, 'He') == True, \"the startswith do not work with two chars\"\n",
        "assert our_startswith(test, 'Hello') == True, \"the startswith do not work with first word\"\n",
        "assert our_startswith(test, 'z') == False, \"the startswith do not work with one char\""
      ],
      "metadata": {
        "id": "ArIqJ9drcTdp"
      },
      "execution_count": null,
      "outputs": []
    },
    {
      "cell_type": "markdown",
      "source": [
        "- endsWith('abc')\n"
      ],
      "metadata": {
        "id": "K1Etap4ickRh"
      }
    },
    {
      "cell_type": "code",
      "source": [
        "def our_endsswith(test_string=\"Hello world\", input_string='ld'):\n",
        "  counter = len(input_string)\n",
        "  while counter > 0:\n",
        "    print(f'log: {counter} {test_string} {input_string}')\n",
        "    if test_string[len(test_string)-counter] != input_string[len(input_string)-counter]:\n",
        "      return False\n",
        "    counter = counter - 1\n",
        "  return True\n",
        "\n",
        "def test_endswith_method():\n",
        "  test = \"Hello world\"\n",
        "  assert our_endsswith(test, 'd') == True, \"the startswith do not work with one char\"\n",
        "  assert our_endsswith(test, 'ld') == True, \"the startswith do not work with two chars\"\n",
        "  assert our_endsswith(test, 'world') == True, \"the startswith do not work with first word\"\n",
        "  assert our_endsswith(test, 'z') == False, \"the startswith do not work with one char\"\n",
        "\n",
        "test_endswith_method()\n"
      ],
      "metadata": {
        "id": "pK2NG_24lCXV"
      },
      "execution_count": null,
      "outputs": []
    },
    {
      "cell_type": "markdown",
      "source": [
        "- upper()"
      ],
      "metadata": {
        "id": "fRhmco1ccxBn"
      }
    },
    {
      "cell_type": "code",
      "source": [
        "def change_to_upper(input):\n",
        "  input = chr(ord(input)-32)\n",
        "  return input\n",
        "\n",
        "def change_to_upper_string(input):\n",
        "  counter = 0\n",
        "  upp = \"\"\n",
        "  while counter < len(input):\n",
        "    if input[counter] == ' ':\n",
        "      upp += \" \"\n",
        "    elif ord(input[counter]) >= 65 and ord(input[counter]) <= 90:\n",
        "      upp = upp + input[counter]\n",
        "    else:\n",
        "      upp += change_to_upper(input[counter])\n",
        "    counter += 1\n",
        "    #print(f'log {upp}')\n",
        "  return upp\n",
        "\n",
        "assert change_to_upper_string('hello') == \"HELLO\", 'our_upper do not work'\n",
        "assert change_to_upper_string('a') == \"A\",  'our_upper do not work'\n",
        "assert change_to_upper_string('hello world') == \"HELLO WORLD\",  'our_upper do not work'\n",
        "assert change_to_upper_string('heLLo') == \"HELLO\", 'our_upper do not work'\n",
        "assert change_to_upper_string('HELLO') == \"HELLO\", 'our_upper do not work'\n",
        "assert change_to_upper_string('HELLO WORLD') == \"HELLO WORLD\", 'our_upper do not work'"
      ],
      "metadata": {
        "id": "-Kzd0dpDz7r6"
      },
      "execution_count": null,
      "outputs": []
    },
    {
      "cell_type": "markdown",
      "source": [
        "- lower()"
      ],
      "metadata": {
        "id": "TwSmEMm8c3Sa"
      }
    },
    {
      "cell_type": "code",
      "source": [
        "#create lower function\n",
        "def change_to_lower(input):\n",
        "  input = chr(ord(input)+32)\n",
        "  return input\n",
        "\n",
        "def setting_lower(input):\n",
        "  counter = 0\n",
        "  low = ''\n",
        "  while counter < len(input):\n",
        "    if ord(input[counter]) >= 65 and ord(input[counter]) <= 90:\n",
        "      low += change_to_lower(input[counter])\n",
        "    else:\n",
        "      low = low + input[counter]\n",
        "    counter += 1\n",
        "  return low\n",
        "\n",
        "assert setting_lower('A') == 'a', 'the setting_upper do not work'  ##both assert will give the false result since that is what we called to return instead\n",
        "assert setting_lower('HELLO WORLD') == 'hello world', 'the setting_upper do not work'\n",
        "assert setting_lower('HELLO') == 'hello', 'the setting_upper do not work'\n",
        "assert setting_lower('hElLO') == 'hello', 'the setting_upper do not work'\n",
        "assert setting_lower('hElLO,WOrLd') == 'hello,world', 'the setting_upper do not work'"
      ],
      "metadata": {
        "id": "QWyxEnaGCjoN"
      },
      "execution_count": null,
      "outputs": []
    },
    {
      "cell_type": "markdown",
      "source": [
        "- swapcase()"
      ],
      "metadata": {
        "id": "CxmqrPt-dObf"
      }
    },
    {
      "cell_type": "code",
      "source": [
        "def change_lower_upper(input):\n",
        "  count = 0\n",
        "  phrase = \"\"\n",
        "  while count < len(input):\n",
        "    if ord(input[count]) >= 97 and ord(input[count]) <= 122:\n",
        "      phrase = phrase+ change_to_upper(input[count])\n",
        "    elif ord(input[count]) >= 65 and ord(input[count]) <= 90:\n",
        "      phrase = phrase + change_to_lower(input[count])\n",
        "    else:\n",
        "      phrase = phrase + input[count]\n",
        "    count+=1\n",
        "  return phrase\n",
        "\n",
        "change_lower_upper('heLLo World')"
      ],
      "metadata": {
        "id": "0l2xItmzEvGY"
      },
      "execution_count": null,
      "outputs": []
    },
    {
      "cell_type": "markdown",
      "source": [
        "Create a method to implement a `caesar` encryption"
      ],
      "metadata": {
        "id": "X4IQx_Mkev59"
      }
    },
    {
      "cell_type": "code",
      "source": [
        "input_word = input(\"Input word to be encrypted: \")\n",
        "input_key = int(input(\"Input key number (number of letter jumps): \"))\n",
        "\n",
        "def encryption(input, key):\n",
        "  input = chr(ord(input) + key)\n",
        "  return input\n",
        "\n",
        "def word_encrypted(input, key):\n",
        "  counter = 0\n",
        "  word =''\n",
        "  while counter < len(input):\n",
        "\n",
        "    #for all upper/lowercase letters (excluding end characters), skip key number of words\n",
        "    if ord(input[counter]) >= 65 and ord(input[counter]) <= (90-key) or ord(input[counter]) >= 97 and ord(input[counter]) <= (122-key):\n",
        "      word += encryption(input[counter], key)\n",
        "\n",
        "    elif ord(input[counter]) > (122 - key) and ord(input[counter]) <= 122: #for lowercase at end of alphabet\n",
        "      word += chr(ord(input[counter]) - 26 + key)\n",
        "\n",
        "    elif ord(input[counter]) > (90 - key) and ord(input[counter]) <= 90: #for uppercase at end of alphabet\n",
        "      word += chr(ord(input[counter]) - 26 + key)\n",
        "\n",
        "    else:\n",
        "      word += input[counter] #keeps all other characters the same\n",
        "\n",
        "    counter += 1 #increment\n",
        "  return word\n",
        "\n",
        "#word_encrypted('ABCDEFGHIJKLMNOPQRSTUVWXYZ abcdefghijklmnopqrstuvwxyz')\n",
        "word_encrypted(input_word, input_key)"
      ],
      "metadata": {
        "id": "mWB779ac4Qhu"
      },
      "execution_count": null,
      "outputs": []
    },
    {
      "cell_type": "markdown",
      "source": [
        "Create a method to implement a caesar decryption"
      ],
      "metadata": {
        "id": "SIXC-W36e6Qz"
      }
    },
    {
      "cell_type": "code",
      "source": [
        "def deencrypt(input, key):\n",
        "  return word_encrypted(input, -(key))\n",
        "\n",
        "print(word_encrypted('hello', 3))\n",
        "print(deencrypt('khoor', 3))\n",
        "assert deencrypt(word_encrypted('hello', 3), 3) == 'hello'"
      ],
      "metadata": {
        "id": "jX8XKIrX_SO_"
      },
      "execution_count": null,
      "outputs": []
    },
    {
      "cell_type": "markdown",
      "source": [
        "Implement a method that returns you a random element from a list. So that if the list contains all class member names, the method will return a random name from it, and then will remove that from the list, so next execution will not repeat the choosen member. You can get a random number using `random.randrange(1, 10)`"
      ],
      "metadata": {
        "id": "quKE075NzzCx"
      }
    },
    {
      "cell_type": "code",
      "source": [
        "import random\n",
        "#random.randrange(1, 10)\n",
        "test = ['Sara', 'Pepito', 'Fulanito', 'Setanito', 'Garbancito']\n",
        "print(test[random.randrange(0, len(test))])"
      ],
      "metadata": {
        "id": "3XgdR2KSDzm9"
      },
      "execution_count": null,
      "outputs": []
    },
    {
      "cell_type": "code",
      "source": [
        "import random\n",
        "def load():\n",
        "  return ['pepito', 'fulanito', 'menganito', 'setanito']\n",
        "def get_random_element(list):\n",
        "  print(\"List size: \" + str(len(list)))\n",
        "  if len(list) != 0:\n",
        "    index = random.randrange(0, len(list))\n",
        "    element_choosen = list[index]\n",
        "    list.remove(element_choosen)\n",
        "  else:\n",
        "    print(\"ERROR the list is empty!\")\n",
        "    element_choosen = None\n",
        "  return element_choosen\n",
        "\n",
        "#elems = load()\n",
        "get_random_element(elems)"
      ],
      "metadata": {
        "id": "B42jPmVu1W_7"
      },
      "execution_count": null,
      "outputs": []
    },
    {
      "cell_type": "markdown",
      "source": [
        "Implements a game that thinks a random number and offer you X attemps to guess it."
      ],
      "metadata": {
        "id": "8F81LctkgtDW"
      }
    },
    {
      "cell_type": "code",
      "source": [
        "import random\n",
        "guess = -1\n",
        "num = random.randrange(0, 1000)\n",
        "count = 0\n",
        "while guess != num and count < 3:\n",
        "   guess = int(input('Give me a number: '))\n",
        "   count = count + 1\n",
        "   print(f'log: {guess} # {num}')\n",
        "if guess == num:\n",
        "  print(f\"You guess the number: {guess}\")\n",
        "else:\n",
        "  print(f\"You ran out of attemps, sorry: {num}\")"
      ],
      "metadata": {
        "id": "ElIPoiSMII3b"
      },
      "execution_count": null,
      "outputs": []
    },
    {
      "cell_type": "markdown",
      "source": [
        "Implements a game that thinks a random letter and offers you X attempts to guess it."
      ],
      "metadata": {
        "id": "c9gG9h-mhKrN"
      }
    },
    {
      "cell_type": "markdown",
      "source": [
        "Implements a game that thinks a random word and you must guess the word letter by letter or providing the whole word, but you will have a limit of tries."
      ],
      "metadata": {
        "id": "UXRPIglKhXr_"
      }
    },
    {
      "cell_type": "code",
      "source": [
        "import random, re\n",
        "\n",
        "def progress_check(word, attempts):\n",
        "  attempts = list(set(attempts))\n",
        "  counter = 0\n",
        "  progress = ''\n",
        "  while counter < len(word):\n",
        "    flag = False\n",
        "    counter2 = 0\n",
        "    while counter2 < len(attempts):\n",
        "      if word[counter] == attempts[counter2]:\n",
        "        progress += attempts[counter2]\n",
        "        flag = True\n",
        "      counter2 += 1\n",
        "    if flag == False:\n",
        "      progress += '_'\n",
        "    counter += 1\n",
        "  return progress\n",
        "\n",
        "def convert_to_list(list_txt):\n",
        "  return list_txt.split()\n",
        "\n",
        "def hangman():\n",
        "  with open('words_for_hangman.txt', 'r') as fd:\n",
        "    plain_text_words = fd.read()\n",
        "  word = convert_to_list(plain_text_words)\n",
        "  choosen_word = word[random.randrange(0, len(word))].lower()\n",
        "  choosen_word = re.sub(\"[^a-z]+\", \"\", choosen_word)\n",
        "  progress = '_' * len(choosen_word)\n",
        "  use_letters = []\n",
        "  max_attempts = 5\n",
        "  while progress != choosen_word and len(use_letters) < max_attempts:\n",
        "    print(progress)\n",
        "    attempt = input(\"Give character: \")\n",
        "    use_letters += attempt\n",
        "    if attempt in choosen_word:\n",
        "      progress = progress_check(choosen_word, use_letters)\n",
        "      max_attempts += 1\n",
        "  if progress == choosen_word:\n",
        "    print(f\"Congrats! You won! The word was: {progress}\")\n",
        "  else:\n",
        "    print(f\"Game over, too much failures the word was: {choosen_word}\")\n",
        "\n",
        "hangman()"
      ],
      "metadata": {
        "id": "Hh7CUxnDesLr"
      },
      "execution_count": null,
      "outputs": []
    },
    {
      "cell_type": "code",
      "source": [
        "import json\n",
        "\n",
        "test = [{\"title\": \"21 Lessons for 21st century\",\n",
        "        \"author\": \"Yuval Harari\",\n",
        "        \"year\": 2020},\n",
        "        {\"title\": \"Secrets Codes\",\n",
        "         \"author\": \"Simon Singh\",\n",
        "         \"year\": 1999}]\n",
        "\n",
        "#new_book = {}\n",
        "#new_book['title'] = input('Title: ')\n",
        "#new_book['author'] = input('Author: ')\n",
        "#new_book['year'] = int(input('Year: '))\n",
        "#test += [new_book]\n",
        "\n",
        "\n",
        "print(test)\n",
        "print(json.dumps(test))\n",
        "#num = int(input(\"Give me an index:\" ))\n",
        "#print(test[num])\n",
        "# file access modes\n",
        "# - r read\n",
        "# - w write\n",
        "# - a add\n",
        "#with open('data.txt', 'w') as fd:\n",
        "#  fd.write(json.dumps(test))\n",
        "with open('data.txt', 'r') as fd:\n",
        "  test2 = fd.read()\n",
        "print(test2)"
      ],
      "metadata": {
        "colab": {
          "base_uri": "https://localhost:8080/"
        },
        "id": "awoNHBub3jKQ",
        "outputId": "44f664ea-ed4d-4caa-9738-de49b7b08932"
      },
      "execution_count": 36,
      "outputs": [
        {
          "output_type": "stream",
          "name": "stdout",
          "text": [
            "[{'title': '21 Lessons for 21st century', 'author': 'Yuval Harari', 'year': 2020}, {'title': 'Secrets Codes', 'author': 'Simon Singh', 'year': 1999}]\n",
            "[{\"title\": \"21 Lessons for 21st century\", \"author\": \"Yuval Harari\", \"year\": 2020}, {\"title\": \"Secrets Codes\", \"author\": \"Simon Singh\", \"year\": 1999}]\n",
            "[{\"title\": \"21 Lessons for 21st century\", \"author\": \"Yuval Harari\", \"year\": 2020}, {\"title\": \"Secrets Codes\", \"author\": \"Simon Singh\", \"year\": 1999},{\"title\":\"this has been added\", \"author\": \"Alejandro\", \"year\": 2023}]\n"
          ]
        }
      ]
    },
    {
      "cell_type": "code",
      "source": [],
      "metadata": {
        "id": "hMFw4uMyALeO"
      },
      "execution_count": null,
      "outputs": []
    },
    {
      "cell_type": "markdown",
      "source": [
        "# Basic Programming Exercises - Week 3"
      ],
      "metadata": {
        "id": "qEPVi1iJdlbo"
      }
    },
    {
      "cell_type": "markdown",
      "source": [
        "Read names from file, and creates a method to choose randomly one every time requested without repetitions."
      ],
      "metadata": {
        "id": "ptHlB5RPfBvi"
      }
    },
    {
      "cell_type": "markdown",
      "source": [
        "Count how many times appears every char into a text read from a file. Store that information into a dictionary, and save it back to another file."
      ],
      "metadata": {
        "id": "r4--RIIecf_6"
      }
    },
    {
      "cell_type": "code",
      "source": [
        "import json\n",
        "\n",
        "def appeareances(input_text):\n",
        "  result = {}\n",
        "  if not input_text:\n",
        "    return result\n",
        "  for counter in range(0, len(input_text)):\n",
        "    result[input_text[counter]] = result.get(input_text[counter], 0) + 1\n",
        "  return result\n",
        "assert appeareances(\"test one\")[\"t\"] == 2\n",
        "\n",
        "def transform_file_2_text(the_file):\n",
        "  result = None\n",
        "  try:\n",
        "    with open(the_file, \"r\") as fd:\n",
        "      result = fd.read()\n",
        "  except FileNotFoundError:\n",
        "    print(\"Please provide a valid filename!\")\n",
        "  return result\n",
        "\n",
        "def save_information(file_name, data):\n",
        "  data_str = json.dumps(data)\n",
        "  fd = open(file_name, 'w')\n",
        "  fd.write(data_str)\n",
        "  fd.close()\n",
        "\n",
        "def read_information(file_name):\n",
        "  fd = open(file_name, 'r')\n",
        "  data_str = fd.read()\n",
        "  fd.close()\n",
        "  return data_str\n",
        "\n",
        "def main():\n",
        "  text = transform_file_2_text(\"words_for_hangman.txt\")\n",
        "  result = appeareances(text)\n",
        "  print(result)\n",
        "  file2_name = input(\"Filename2: \")\n",
        "  save_information(file2_name, result)\n",
        "  read_data = json.loads(read_information(file2_name))\n",
        "  print(read_data)\n",
        "  print(read_data[\"T\"])\n",
        "\n",
        "\n",
        "main()"
      ],
      "metadata": {
        "colab": {
          "base_uri": "https://localhost:8080/"
        },
        "id": "m8VqxfDex1oJ",
        "outputId": "586fe0c8-7182-46f7-ea85-f0ee3947b0c8"
      },
      "execution_count": 29,
      "outputs": [
        {
          "output_type": "stream",
          "name": "stdout",
          "text": [
            "{'T': 3, 'o': 26, 't': 12, 'e': 36, 'n': 24, 'h': 11, 'a': 29, 'm': 12, ' ': 50, 'v': 4, 's': 18, 'i': 15, 'g': 9, 'd': 10, 'M': 2, 'r': 17, 'S': 3, 'l': 15, 'f': 7, 'k': 4, 'D': 2, '-': 3, 'y': 2, '.': 3, '\\n': 2, '2': 2, '3': 1, 'I': 1, 'w': 3, 'p': 4, 'F': 1, 'u': 6, ',': 2, 'c': 4, '4': 1, 'b': 1, \"'\": 1, 'j': 1, 'K': 1, 'G': 1, 'V': 1, 'E': 1, 'J': 1}\n",
            "Filename2: test1.csv\n",
            "{'T': 3, 'o': 26, 't': 12, 'e': 36, 'n': 24, 'h': 11, 'a': 29, 'm': 12, ' ': 50, 'v': 4, 's': 18, 'i': 15, 'g': 9, 'd': 10, 'M': 2, 'r': 17, 'S': 3, 'l': 15, 'f': 7, 'k': 4, 'D': 2, '-': 3, 'y': 2, '.': 3, '\\n': 2, '2': 2, '3': 1, 'I': 1, 'w': 3, 'p': 4, 'F': 1, 'u': 6, ',': 2, 'c': 4, '4': 1, 'b': 1, \"'\": 1, 'j': 1, 'K': 1, 'G': 1, 'V': 1, 'E': 1, 'J': 1}\n",
            "3\n"
          ]
        }
      ]
    },
    {
      "cell_type": "code",
      "source": [],
      "metadata": {
        "id": "ZjvayEd08VhC"
      },
      "execution_count": null,
      "outputs": []
    },
    {
      "cell_type": "code",
      "source": [
        "test = {\"a\": 2,\n",
        "        \"b\": 3,\n",
        "        \"1\": 5}\n",
        "print(test[\"a\"])\n",
        "[\"a\"] = 50\n",
        "printestt(test[\"a\"])\n",
        "print(test.get('x', 0))"
      ],
      "metadata": {
        "colab": {
          "base_uri": "https://localhost:8080/"
        },
        "id": "2dKwPrxW2jCn",
        "outputId": "83972253-79f9-4318-e9e2-ccd5722296b6"
      },
      "execution_count": 6,
      "outputs": [
        {
          "output_type": "stream",
          "name": "stdout",
          "text": [
            "2\n",
            "50\n",
            "0\n"
          ]
        }
      ]
    },
    {
      "cell_type": "markdown",
      "source": [
        "Write a program that categorizes each mail message (from file mbox-short.txt) by which day of the week the commit was done. To do this look for lines that start with “From”, then look for the third word and keep a running count of each of the days of the week. At the end of the program print out the contents of your dictionary (order does not matter)."
      ],
      "metadata": {
        "id": "UrXYEjgyfPsA"
      }
    },
    {
      "cell_type": "markdown",
      "source": [
        "Write a program to read through a mail log, build a histogram using a dictionary to count how many messages have come from each email address, and print the dictionary."
      ],
      "metadata": {
        "id": "pk50_JtyfYpL"
      }
    },
    {
      "cell_type": "markdown",
      "source": [
        "Add code to the above program to figure out who has the most messages in the file. After all the data has been read and the dictionary has been created, look through the dictionary using a maximum loop (see Chapter 5: Maximum and minimum loops) to find who has the most messages and print how many messages the person has."
      ],
      "metadata": {
        "id": "rzgSMM4pfh1c"
      }
    },
    {
      "cell_type": "markdown",
      "source": [
        "This program records the domain name (instead of the address) where the message was sent from instead of who the mail came from (i.e., the whole email address). At the end of the program, print out the contents of your dictionary."
      ],
      "metadata": {
        "id": "IFOpWrCrfnWV"
      }
    },
    {
      "cell_type": "markdown",
      "source": [
        "Create a program that is a todo-list. The tasks should be stored into a file to avoid lose the data. And recover from it to continue working."
      ],
      "metadata": {
        "id": "9F-s5qsBcqZC"
      }
    },
    {
      "cell_type": "code",
      "source": [
        "test = [1,2,3,10,22,5,16,7]\n",
        "test2 = [nums for nums in test if nums <= 9]\n",
        "print(test2)"
      ],
      "metadata": {
        "colab": {
          "base_uri": "https://localhost:8080/"
        },
        "id": "zW1PxuDwqbAk",
        "outputId": "29384003-2991-40b5-f3cd-db081734d2aa"
      },
      "execution_count": 4,
      "outputs": [
        {
          "output_type": "stream",
          "name": "stdout",
          "text": [
            "[1, 2, 3, 5, 7]\n"
          ]
        }
      ]
    },
    {
      "cell_type": "code",
      "source": [
        "test = {\"name\": \"Alejandro\", \"year\": 2022}\n",
        "print(test[\"name\"])\n",
        "print(test.get(\"surname\", \"None\"))\n"
      ],
      "metadata": {
        "colab": {
          "base_uri": "https://localhost:8080/"
        },
        "id": "LdBOm3y-uF0C",
        "outputId": "d2551c15-8d1f-4f82-896a-11dda4f437b1"
      },
      "execution_count": 14,
      "outputs": [
        {
          "output_type": "stream",
          "name": "stdout",
          "text": [
            "Alejandro\n",
            "None\n"
          ]
        }
      ]
    },
    {
      "cell_type": "code",
      "source": [
        "test = [\n",
        "    {\"name\": \"Alejandro\", \"year\": 2022},\n",
        "    {\"name\": \"Pepito\", \"year\":2023},\n",
        "    {\"name\": \"Jorgito\", \"year\": 2021},\n",
        "    {\"name\": \"Juanito\", \"year\": 2022},\n",
        "    {\"name\": \"Garbancito\", \"year\":2000}\n",
        "]\n",
        "test2 = [ element for element in test if element[\"year\"] > 2021]\n",
        "print(test2)\n",
        "test3 = [ element.get(\"name\") for element in test if element[\"year\"] > 2021]\n",
        "print(test3)"
      ],
      "metadata": {
        "colab": {
          "base_uri": "https://localhost:8080/"
        },
        "id": "9MV7LYeArNvP",
        "outputId": "4dfbe6d5-b371-41d2-98ed-b5d1279f5a92"
      },
      "execution_count": 10,
      "outputs": [
        {
          "output_type": "stream",
          "name": "stdout",
          "text": [
            "[{'name': 'Alejandro', 'year': 2022}, {'name': 'Pepito', 'year': 2023}, {'name': 'Juanito', 'year': 2022}]\n",
            "['Alejandro', 'Pepito', 'Juanito']\n"
          ]
        }
      ]
    },
    {
      "cell_type": "code",
      "source": [
        "class car:\n",
        "  color = None\n",
        "  hp = 20\n",
        "  wheels = None\n",
        "  weight = 1000\n",
        "\n",
        "  def goforward(self):\n",
        "    print(\"bruuuum!!\")\n",
        "\n",
        "  def stop(self, speed=10):\n",
        "    for i in range(speed):\n",
        "      print(\"trying to stop !!!\")\n",
        "    print(\"I'm already stopped\")\n",
        "\n",
        "  def get_pwr(self):\n",
        "    print(f\"weight: {self.weight} - hp: {self.hp}\")\n",
        "    pwr = int(self.weight) / int(self.hp)\n",
        "    print(f\"log: {pwr}\")\n",
        "    return pwr\n",
        "\n",
        "  def __str__(self):\n",
        "    return \"This is a car\"\n",
        "\n",
        "my_car1 = car()\n",
        "my_car2 = car()\n",
        "my_car1.color = \"black\"\n",
        "my_car1.stop(3)\n",
        "my_car1.goforward()\n",
        "my_car1.get_pwr()"
      ],
      "metadata": {
        "colab": {
          "base_uri": "https://localhost:8080/"
        },
        "id": "KYRAj_CvxtTs",
        "outputId": "702c1bcd-692f-4886-b109-496faf9f68dd"
      },
      "execution_count": 35,
      "outputs": [
        {
          "output_type": "stream",
          "name": "stdout",
          "text": [
            "trying to stop !!!\n",
            "trying to stop !!!\n",
            "trying to stop !!!\n",
            "I'm already stopped\n",
            "bruuuum!!\n",
            "weight: 1000 - hp: 20\n",
            "log: 50.0\n"
          ]
        },
        {
          "output_type": "execute_result",
          "data": {
            "text/plain": [
              "50.0"
            ]
          },
          "metadata": {},
          "execution_count": 35
        }
      ]
    },
    {
      "cell_type": "code",
      "source": [
        "class classroom:\n",
        "  num_teachers = 1\n",
        "  students = []\n",
        "  def get_num_students(self):\n",
        "    return len(self.students)\n",
        "\n",
        "class student:\n",
        "  name = \"\"\n",
        "  surname = \"\"\n",
        "  grade = 'a'\n",
        "\n",
        "my_programming_class = classroom()\n",
        "student1 = student()\n",
        "student2 = student()\n",
        "my_programming_class.students.append(student1)\n",
        "my_programming_class.students.append(student2)\n",
        "print(my_programming_class.get_num_students())"
      ],
      "metadata": {
        "colab": {
          "base_uri": "https://localhost:8080/"
        },
        "id": "FdniNe2W6MfB",
        "outputId": "16374de0-5499-4d97-a299-c3d0cddeaff0"
      },
      "execution_count": 3,
      "outputs": [
        {
          "output_type": "stream",
          "name": "stdout",
          "text": [
            "2\n"
          ]
        }
      ]
    },
    {
      "cell_type": "markdown",
      "source": [
        "Create a game where the players can choose his role between vampires, wizards or orcs. All players will have a name and mana level that will be returned when asked the string version of the class.\n",
        "Every player will have a special war cry, printed out when asked.\n",
        "Wizards can be shaman or mage, vampires can be warlock or hunter.\n",
        "Vampires will add to its string version a threat."
      ],
      "metadata": {
        "id": "OKLpPeeFeOgd"
      }
    },
    {
      "cell_type": "markdown",
      "source": [
        "Modify previous code in order to be able to add a genre to the characters, so the user can choose if want to be he or she."
      ],
      "metadata": {
        "id": "sgF8La0vjGBI"
      }
    },
    {
      "cell_type": "code",
      "source": [
        "class Player:\n",
        "  name = \"Default name\"\n",
        "  warcry_sentence = \"Arrrgh!\"\n",
        "  def __init__(self, name=None):\n",
        "    if name:\n",
        "      self.name = name\n",
        "  def __str__(self):\n",
        "    return(self.name)\n",
        "  def warcry(self):\n",
        "    print(self.warcry_sentence)\n",
        "\n",
        "class Vampire(Player):\n",
        "  def warcry(self):\n",
        "    print(\"I'll drink all your blood\")\n",
        "  def bite(self):\n",
        "    print(\"Bite your neck!\")\n",
        "  def fly(self):\n",
        "    print(\"I'm flying towards you!\")\n",
        "\n",
        "class Wizard(Player):\n",
        "  def spell(self):\n",
        "    print(\"Bididibadidibu!\")\n",
        "  def fly(self):\n",
        "    print(\"Give me space to land!\")\n",
        "  def __str__(self):\n",
        "    return \"Hello little padawan!\"\n",
        "  def warcry(self):\n",
        "    super().warcry()\n",
        "    print(\"I put a spell on you!\")\n",
        "\n",
        "class Warlock(Vampire, Wizard):\n",
        "   pass\n",
        "\n",
        "list_of_wizards = []\n",
        "for i in range(10):\n",
        "  list_of_wizards.append(str(Wizard()))\n",
        "print(list_of_wizards)\n"
      ],
      "metadata": {
        "colab": {
          "base_uri": "https://localhost:8080/"
        },
        "id": "DbuIv1WttDho",
        "outputId": "407170ed-05e8-4ace-a206-9e59c2367000"
      },
      "execution_count": 29,
      "outputs": [
        {
          "output_type": "stream",
          "name": "stdout",
          "text": [
            "['Hello little padawan!', 'Hello little padawan!', 'Hello little padawan!', 'Hello little padawan!', 'Hello little padawan!', 'Hello little padawan!', 'Hello little padawan!', 'Hello little padawan!', 'Hello little padawan!', 'Hello little padawan!']\n"
          ]
        }
      ]
    },
    {
      "cell_type": "code",
      "source": [
        "test1 = \"hello\"\n",
        "test2 = [{\"name\": \"Alex\"},{\"name\": \"Henry\"}]\n",
        "test2.append({\"name\": \"Gabriela\"})\n",
        "print(len(test2))"
      ],
      "metadata": {
        "colab": {
          "base_uri": "https://localhost:8080/"
        },
        "id": "r0IO9zeI_DIJ",
        "outputId": "2f052731-b04e-4317-91f7-a0e5d8a8f713"
      },
      "execution_count": 35,
      "outputs": [
        {
          "output_type": "stream",
          "name": "stdout",
          "text": [
            "3\n"
          ]
        }
      ]
    },
    {
      "cell_type": "code",
      "source": [
        "!pip install openai\n",
        "import os\n",
        "import openai\n",
        "\n",
        "openai.api_key = 'KEY FROM THE OPENAI SERVICE'\n",
        "conversation = [{\"role\": \"system\", \"content\": \"You are a Vampire with love for jokes and your name is Garbancito.\"}]\n",
        "msg = 'anything'\n",
        "while msg != 'quit':\n",
        "  msg = input(\"Ask something:\")\n",
        "  conversation.append({\"role\": \"user\", \"content\": msg})\n",
        "  reply = openai.ChatCompletion.create(\n",
        "    model=\"gpt-3.5-turbo\",\n",
        "    messages=conversation\n",
        "  )\n",
        "  conversation.append(reply.choices[0].message)\n",
        "  print(reply.choices[0].message)"
      ],
      "metadata": {
        "id": "_rgqAj4I_84T"
      },
      "execution_count": null,
      "outputs": []
    },
    {
      "cell_type": "code",
      "source": [
        "!pip install openai"
      ],
      "metadata": {
        "id": "MafHmBDA5FjP"
      },
      "execution_count": null,
      "outputs": []
    },
    {
      "cell_type": "code",
      "source": [
        "#!pip install jsonpickle\n",
        "import jsonpickle\n",
        "class grocery_store:\n",
        "  def __init__(self, name, address=None):\n",
        "    self.name = name\n",
        "    self.address = address if address else \"No idea!\"\n",
        "    self.products_list = []\n",
        "\n",
        "  def __str__(self):\n",
        "    return jsonpickle.encode(self)\n",
        "\n",
        "  def save2file(self, file_name=\"grocery.txt\"):\n",
        "    with open(file_name, 'w') as fd:\n",
        "      fd.write(self.__str__())\n",
        "\n",
        "  def readFile(self,  file_name=\"grocery.txt\"):\n",
        "    with open(file_name, 'r') as fd:\n",
        "      readed_data = fd.read()\n",
        "    return jsonpickle.decode(readed_data)\n",
        "\n",
        "def test_grocery_save_method():\n",
        "  store = grocery_store(\"Mercadona\")\n",
        "  store.save2file()\n",
        "  other_store = store.readFile()\n",
        "  assert(str(store) == str(other_store))\n",
        "\n",
        "test_grocery_save_method()\n",
        "#assert(grocery_store(\"Mercadona\").save2file())\n",
        "#print(grocery_store('Mercadona', 'Paseo Gral. Martinez Campos'))\n",
        "#assert(str(grocery_store('Mercadona', 'Paseo Gral. Martinez Campos')) == 'Mercadona (Paseo Gral. Martinez Campos)')\n",
        "\n",
        "class product:\n",
        "  def __init__(self, name, category, price=None, weight=None, quantity=None):\n",
        "    self.name = name\n",
        "    self.price = price\n",
        "    self.weight = weight\n",
        "    self.quantity = quantity\n",
        "    self.category = category\n",
        "  def __str__(self):\n",
        "    return f\"{self.name} ({self.price})\"\n",
        "assert(str(product('Grapes', 'Fruit', '2$')) == \"Grapes (2$)\")\n",
        "\n",
        "def main():\n",
        "  filename = input(\"Enter filename:\")\n",
        "  try:\n",
        "    with open(filename, 'r') as fd:\n",
        "      data = fd.read()\n",
        "  except FileNotFoundError:\n",
        "    print('That filename does not exists!')\n",
        "    store_name = input(\"Enter grocery store name:\")\n",
        "    reply = input(\"Do you want to provide an address: \")\n",
        "    store_address = ''\n",
        "    if reply == 'y' or reply == \"Y\" or reply == 'yes':\n",
        "      store_address = input(\"Addres: \")\n",
        "    my_store = grocery_store(store_name, store_address if store_address else None)\n",
        "\n",
        "\n",
        "  print(my_store.name)\n",
        "  return\n",
        "\n",
        "  msg = \"\"\n",
        "  while msg != 'no':\n",
        "    product_name = input(\"Enter product:\")\n",
        "    product_category = input(\"Enter category:\")\n",
        "    prd = product(product_name, product_category)\n",
        "    print(prd)\n",
        "    my_store.products_list.append(prd)\n",
        "\n",
        "    msg = input(\"Do you want to continue?\")\n",
        "  my_store.save2file()\n",
        "#main()"
      ],
      "metadata": {
        "id": "C-RwA_pY6NL-"
      },
      "execution_count": 19,
      "outputs": []
    },
    {
      "cell_type": "code",
      "source": [
        "class top:\n",
        "  def __init__(self, material, color, type):\n",
        "    self.top = top\n",
        "\n",
        "class tops:\n",
        "  def __init__(self, tops):\n",
        "    self.tops = tops\n",
        "\n",
        "class outfit:\n",
        "  def __init__(self, top, bottom):\n",
        "    self.top = top\n",
        "    self.bottom = bottom"
      ],
      "metadata": {
        "id": "eiD5DGnQogSI"
      },
      "execution_count": null,
      "outputs": []
    },
    {
      "cell_type": "code",
      "source": [
        "tops = [{\"material\": \"cotton\", \"color\": \"pink\", \"type\": \"tank top\"},\n",
        "        {\"material\": \"cotton\", \"color\": \"blue\", \"type\": \"tank top\"},\n",
        "        {\"material\": \"polyester\", \"color\": \"blue\", \"type\": \"tank top\"},\n",
        "        {\"material\": \"silk\", \"color\": \"black\", \"type\": \"tank top\"}]\n",
        "bottoms = [{\"material\": \"linen\", \"color\": \"cream\", \"type\": \"pants\"},\n",
        "        {\"material\": \"cotton\", \"color\": \"blue\", \"type\": \"shorts\"},\n",
        "        {\"material\": \"denim\", \"color\": \"blue\", \"type\": \"jeans\"},\n",
        "        {\"material\": \"denim\", \"color\": \"black\", \"type\": \"jeans\"}]\n",
        "outfits = []\n",
        "for i in range(len(tops)):\n",
        "  for j in range(len(bottoms)):\n",
        "    if tops[i]['color'] != bottoms[j]['color']:\n",
        "      outfits.append((tops[i]['color'],bottoms[j]['color']))\n",
        "print(outfits)"
      ],
      "metadata": {
        "id": "1U4BUrdroq7r",
        "outputId": "f184d845-4116-4e00-8e05-12df10e95cfb",
        "colab": {
          "base_uri": "https://localhost:8080/"
        }
      },
      "execution_count": 7,
      "outputs": [
        {
          "output_type": "stream",
          "name": "stdout",
          "text": [
            "[('pink', 'cream'), ('pink', 'blue'), ('pink', 'blue'), ('pink', 'black'), ('blue', 'cream'), ('blue', 'black'), ('blue', 'cream'), ('blue', 'black'), ('black', 'cream'), ('black', 'blue'), ('black', 'blue')]\n"
          ]
        }
      ]
    },
    {
      "cell_type": "code",
      "source": [
        "import json\n",
        "\n",
        "tops = [{\"material\": \"cotton\", \"color\": \"pink\", \"type\": \"tank top\"},\n",
        "        {\"material\": \"cotton\", \"color\": \"blue\", \"type\": \"tank top\"},\n",
        "        {\"material\": \"polyester\", \"color\": \"blue\", \"type\": \"tank top\"},\n",
        "        {\"material\": \"silk\", \"color\": \"black\", \"type\": \"tank top\"}]\n",
        "\n",
        "bottoms = [{\"material\": \"linen\", \"color\": \"cream\", \"type\": \"pants\"},\n",
        "        {\"material\": \"cotton\", \"color\": \"blue\", \"type\": \"shorts\"},\n",
        "        {\"material\": \"denim\", \"color\": \"blue\", \"type\": \"jeans\"},\n",
        "        {\"material\": \"denim\", \"color\": \"black\", \"type\": \"jeans\"}]\n",
        "\n",
        "def save_data(data, filename=\"test.txt\"):\n",
        "  with open(filename, 'w') as file:\n",
        "    file.write(json.dumps(data))\n",
        "\n",
        "def read_data(filename=\"test.txt\"):\n",
        "  with open(filename, 'r') as file:\n",
        "    data_readed = json.loads(file.read())\n",
        "    return data_readed\n",
        "\n",
        "def main():\n",
        "  save_data(tops, \"tops.txt\")\n",
        "  save_data(bottoms, \"bottoms.txt\")\n",
        "  tops = read_data(\"tops.txt\")\n",
        "  bottoms = read_data(\"bottoms.txt\")\n",
        "\n",
        "main()\n",
        "\n",
        "print(read_data(\"tops.txt\"))\n"
      ],
      "metadata": {
        "colab": {
          "base_uri": "https://localhost:8080/",
          "height": 365
        },
        "id": "ZGEuSJqORolm",
        "outputId": "44ec5116-ea9a-4ef3-ed5d-20794a13cbef"
      },
      "execution_count": 1,
      "outputs": [
        {
          "output_type": "error",
          "ename": "UnboundLocalError",
          "evalue": "ignored",
          "traceback": [
            "\u001b[0;31m---------------------------------------------------------------------------\u001b[0m",
            "\u001b[0;31mUnboundLocalError\u001b[0m                         Traceback (most recent call last)",
            "\u001b[0;32m<ipython-input-1-e0ad6107a893>\u001b[0m in \u001b[0;36m<cell line: 28>\u001b[0;34m()\u001b[0m\n\u001b[1;32m     26\u001b[0m   \u001b[0mbottoms\u001b[0m \u001b[0;34m=\u001b[0m \u001b[0mread_data\u001b[0m\u001b[0;34m(\u001b[0m\u001b[0;34m\"bottoms.txt\"\u001b[0m\u001b[0;34m)\u001b[0m\u001b[0;34m\u001b[0m\u001b[0;34m\u001b[0m\u001b[0m\n\u001b[1;32m     27\u001b[0m \u001b[0;34m\u001b[0m\u001b[0m\n\u001b[0;32m---> 28\u001b[0;31m \u001b[0mmain\u001b[0m\u001b[0;34m(\u001b[0m\u001b[0;34m)\u001b[0m\u001b[0;34m\u001b[0m\u001b[0;34m\u001b[0m\u001b[0m\n\u001b[0m\u001b[1;32m     29\u001b[0m \u001b[0;34m\u001b[0m\u001b[0m\n\u001b[1;32m     30\u001b[0m \u001b[0mprint\u001b[0m\u001b[0;34m(\u001b[0m\u001b[0mread_data\u001b[0m\u001b[0;34m(\u001b[0m\u001b[0;34m\"tops.txt\"\u001b[0m\u001b[0;34m)\u001b[0m\u001b[0;34m)\u001b[0m\u001b[0;34m\u001b[0m\u001b[0;34m\u001b[0m\u001b[0m\n",
            "\u001b[0;32m<ipython-input-1-e0ad6107a893>\u001b[0m in \u001b[0;36mmain\u001b[0;34m()\u001b[0m\n\u001b[1;32m     21\u001b[0m \u001b[0;34m\u001b[0m\u001b[0m\n\u001b[1;32m     22\u001b[0m \u001b[0;32mdef\u001b[0m \u001b[0mmain\u001b[0m\u001b[0;34m(\u001b[0m\u001b[0;34m)\u001b[0m\u001b[0;34m:\u001b[0m\u001b[0;34m\u001b[0m\u001b[0;34m\u001b[0m\u001b[0m\n\u001b[0;32m---> 23\u001b[0;31m   \u001b[0msave_data\u001b[0m\u001b[0;34m(\u001b[0m\u001b[0mtops\u001b[0m\u001b[0;34m,\u001b[0m \u001b[0;34m\"tops.txt\"\u001b[0m\u001b[0;34m)\u001b[0m\u001b[0;34m\u001b[0m\u001b[0;34m\u001b[0m\u001b[0m\n\u001b[0m\u001b[1;32m     24\u001b[0m   \u001b[0msave_data\u001b[0m\u001b[0;34m(\u001b[0m\u001b[0mbottoms\u001b[0m\u001b[0;34m,\u001b[0m \u001b[0;34m\"bottoms.txt\"\u001b[0m\u001b[0;34m)\u001b[0m\u001b[0;34m\u001b[0m\u001b[0;34m\u001b[0m\u001b[0m\n\u001b[1;32m     25\u001b[0m   \u001b[0mtops\u001b[0m \u001b[0;34m=\u001b[0m \u001b[0mread_data\u001b[0m\u001b[0;34m(\u001b[0m\u001b[0;34m\"tops.txt\"\u001b[0m\u001b[0;34m)\u001b[0m\u001b[0;34m\u001b[0m\u001b[0;34m\u001b[0m\u001b[0m\n",
            "\u001b[0;31mUnboundLocalError\u001b[0m: local variable 'tops' referenced before assignment"
          ]
        }
      ]
    },
    {
      "cell_type": "code",
      "source": [
        "#!pip install jsons\n",
        "#!pip install jsonpickle\n",
        "import jsons\n",
        "import jsonpickle\n",
        "p1 = product(\"banana\", \"zito\")\n",
        "p2 = product(\"banana\", \"fruta\")\n",
        "l = [p1,p2]\n",
        "print(l)\n",
        "l.sort()\n",
        "with open('test.txt', 'w') as fd:\n",
        "  fd.write(jsonpickle.encode(l))\n",
        "with open('test.txt', 'r') as fd:\n",
        "  test_readed = jsonpickle.decode(fd.read())\n",
        "  print(test_readed)"
      ],
      "metadata": {
        "id": "IK5Rh9vzlp66"
      },
      "execution_count": null,
      "outputs": []
    }
  ]
}